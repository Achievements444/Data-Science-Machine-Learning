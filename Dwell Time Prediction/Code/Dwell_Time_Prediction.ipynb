{
  "nbformat": 4,
  "nbformat_minor": 0,
  "metadata": {
    "colab": {
      "provenance": [],
      "collapsed_sections": [
        "ciLMmrLeDxaw",
        "X5ns-rs7zbr2",
        "PH5lLVt0xqiM",
        "Yc4AjxtUDYAg",
        "Gj1oFeaDEAO9"
      ]
    },
    "kernelspec": {
      "name": "python3",
      "display_name": "Python 3"
    },
    "language_info": {
      "name": "python"
    }
  },
  "cells": [
    {
      "cell_type": "markdown",
      "metadata": {
        "id": "ic5hUfVsZNn0"
      },
      "source": [
        "##**Business Problem**\n",
        "\n",
        "Less-Than-Truckload (LTL) is a very complicated business. As part of\n",
        "operations, trips are created to deliver or pickup shipments from the\n",
        "customer locations. Effective trip planning is key for optimal operation of\n",
        "LTL business. For better trip planning, we need to estimate how long our\n",
        "drivers will spend at each customer location (called as Dwell Time).\n",
        "\n",
        "##**Type of Problem:**\n",
        "\n",
        "Regression\n",
        "\n",
        "##**Metric**\n",
        "\n",
        "Root Mean Squre Error (RMSE)"
      ]
    },
    {
      "cell_type": "markdown",
      "metadata": {
        "id": "7ZT2DLl_ZfX7"
      },
      "source": [
        "##**Summary of Machine Learning techniques used by me in each stage:**\n",
        "\n",
        "1. **Exploratory Data Analysis**\n",
        "\n",
        "    a. Inter Quartile Range\n",
        "\n",
        "    b. Percentiles\n",
        "\n",
        "    c. Presence of NULL values\n",
        "\n",
        "    d. Probalility Distribution Function\n",
        "\n",
        "    e. Cumulative Distribution Function\n",
        "\n",
        "    f. Outlier Analysis\n",
        "\n",
        "2. **Data Preprocessing**\n",
        "\n",
        "    a. Imputation &/or Replacement of values\n",
        "\n",
        "    b. Categorical Encoding\n",
        "\n",
        "    c. Normalization of numeric features.\n",
        "\n",
        "3. **Feature Engineering & Feature Selection**\n",
        "\n",
        "4. **Model Building & Hyperparameter Tuning**\n",
        "\n",
        "    a. Linear Regression\n",
        "\n",
        "    b. Random Forest\n",
        "\n",
        "    c. Gradient Boosting - LightGBM\n",
        "\n",
        "5. **Model Evaluation, Results & Performance Analysis**\n",
        "\n",
        "6. **How Can This Solution Be Improved**\n",
        "\n",
        "7. **Deployment**\n",
        "\n",
        "8. **Conclusion**"
      ]
    },
    {
      "cell_type": "markdown",
      "metadata": {
        "id": "yNyExmPuDjM7"
      },
      "source": [
        "Importing Required Libraries"
      ]
    },
    {
      "cell_type": "code",
      "metadata": {
        "id": "ZJKBV73ZsWGa"
      },
      "source": [
        "import numpy as np\n",
        "import pandas as pd\n",
        "import matplotlib.pyplot as plt\n",
        "import seaborn as sns\n",
        "\n",
        "from sklearn import preprocessing\n",
        "from sklearn.model_selection import train_test_split\n",
        "from sklearn.model_selection import GridSearchCV, RandomizedSearchCV "
      ],
      "execution_count": 1,
      "outputs": []
    },
    {
      "cell_type": "markdown",
      "metadata": {
        "id": "xnXHmNoXDpHd"
      },
      "source": [
        "Connecting to Google Drive for fetching data"
      ]
    },
    {
      "cell_type": "code",
      "metadata": {
        "colab": {
          "base_uri": "https://localhost:8080/"
        },
        "id": "tf13Cg9Hsoaa",
        "outputId": "e860b67c-72b0-490a-a3a8-46ddb1dc3b21"
      },
      "source": [
        "from google.colab import drive\n",
        "drive.mount('/content/drive')"
      ],
      "execution_count": null,
      "outputs": [
        {
          "output_type": "stream",
          "text": [
            "Mounted at /content/drive\n"
          ],
          "name": "stdout"
        }
      ]
    },
    {
      "cell_type": "code",
      "metadata": {
        "colab": {
          "base_uri": "https://localhost:8080/"
        },
        "id": "bSeBzWOAsqTi",
        "outputId": "377eceb8-3d6c-4f11-8c9e-25d987c390bc"
      },
      "source": [
        "%cd '/content/drive/MyDrive/XPO' "
      ],
      "execution_count": null,
      "outputs": [
        {
          "output_type": "stream",
          "text": [
            "/content/drive/MyDrive/XPO\n"
          ],
          "name": "stdout"
        }
      ]
    },
    {
      "cell_type": "code",
      "metadata": {
        "colab": {
          "base_uri": "https://localhost:8080/"
        },
        "id": "L1lYi2ZDsr_C",
        "outputId": "3a91194c-059e-4588-a7d4-7cbfc58f0b6d"
      },
      "source": [
        "!pwd"
      ],
      "execution_count": null,
      "outputs": [
        {
          "output_type": "stream",
          "text": [
            "/content/drive/MyDrive/XPO\n"
          ],
          "name": "stdout"
        }
      ]
    },
    {
      "cell_type": "code",
      "metadata": {
        "colab": {
          "base_uri": "https://localhost:8080/"
        },
        "id": "l7Mk8e_Xss5h",
        "outputId": "839885be-14c0-4260-e71f-ef3727ace362"
      },
      "source": [
        "!ls"
      ],
      "execution_count": null,
      "outputs": [
        {
          "output_type": "stream",
          "text": [
            "'DataSet[24].csv'  'XPOLogistics_ML_Challenge (1).pdf'\n"
          ],
          "name": "stdout"
        }
      ]
    },
    {
      "cell_type": "markdown",
      "metadata": {
        "id": "77btqfxCs7ea"
      },
      "source": [
        "##Load the Data"
      ]
    },
    {
      "cell_type": "code",
      "metadata": {
        "colab": {
          "base_uri": "https://localhost:8080/"
        },
        "id": "0QspGRsys9sX",
        "outputId": "a43d6373-4927-4034-9015-01ce2236ae4a"
      },
      "source": [
        "print(\"Reading data...\")\n",
        "data = pd.read_csv('DataSet[24].csv')\n",
        "print(\"Done.\")"
      ],
      "execution_count": 2,
      "outputs": [
        {
          "output_type": "stream",
          "name": "stdout",
          "text": [
            "Reading data...\n",
            "Done.\n"
          ]
        }
      ]
    },
    {
      "cell_type": "markdown",
      "metadata": {
        "id": "ciLMmrLeDxaw"
      },
      "source": [
        "##**1. Exploratory Data Analysis**"
      ]
    },
    {
      "cell_type": "markdown",
      "metadata": {
        "id": "VFkODEwXNZXc"
      },
      "source": [
        "***Section Summary: Exploratory Data Analysis***\n",
        "\n",
        "1. The given data consists of a total of 13726 rows / data points and 18 columns / features.\n",
        "\n",
        "2. Out of the given 18 features, 13 features are of type numeric, 2 features are boolean and 3 features are categorical. Thus, we will need to apply techniques such as normalozation and categorical encoding before applying models.\n",
        "\n",
        "3. Range of values contained by the numerical columns are different. Some have a greater range as compared to others. Thus, we will need to normalize columns in order to make sure that all the columns hold and equal contribution during modelling.\n",
        "\n",
        "4. No NULL values are present in the given data.\n",
        "Some columns contains a value 'U' which might be standing for Unavailable. Thus, we can either drop these rows (which isn't always the best thing to do) or we can impute / replace them with techniques such as mean imputation, median imputation or imputation based on most frequent values in that particular column. I have implemented the later approach in this case.\n",
        "\n",
        "5. Percentiles, CDF and PDF help us understand how the data is distributed and can be of great help in understanding underlying patterns in the data. In-depth analysis using these techniques can be found below in the section.\n",
        "\n",
        "6. The target variable Dwell Time has values ranging between 10 and 217 units. The distribution can be observed in the section below. If we carefully observe the CDF and its percentiles, we can that there Most of stations or locations require less than 50 units of the time and very less amount of stations require significantly higher time than that. "
      ]
    },
    {
      "cell_type": "code",
      "metadata": {
        "colab": {
          "base_uri": "https://localhost:8080/"
        },
        "id": "TPUxT-EltITl",
        "outputId": "f418608e-63aa-485d-f567-72384ef4f79f"
      },
      "source": [
        "data.shape"
      ],
      "execution_count": 3,
      "outputs": [
        {
          "output_type": "execute_result",
          "data": {
            "text/plain": [
              "(13726, 18)"
            ]
          },
          "metadata": {},
          "execution_count": 3
        }
      ]
    },
    {
      "cell_type": "code",
      "metadata": {
        "colab": {
          "base_uri": "https://localhost:8080/",
          "height": 270
        },
        "id": "zbKeQYzztMAy",
        "outputId": "dc570fb3-2367-446a-9f04-a7dd6f662d9d"
      },
      "source": [
        "data.head(5)"
      ],
      "execution_count": 4,
      "outputs": [
        {
          "output_type": "execute_result",
          "data": {
            "text/plain": [
              "   DL  DP  HE  HK  HL  PU  SE  SL  WEIGHT  MOTORIZED_PIECES_COUNT  \\\n",
              "0   1   0   0   0   0   0   0   0   17177                      12   \n",
              "1   2   0   0   0   0   0   0   0    4553                      22   \n",
              "2  16   0   0   0   0   0   0   0   10355                      39   \n",
              "3   1   0   0   0   0   0   0   0    1911                       1   \n",
              "4   0   0   0   0   0   3   0   0   14787                      21   \n",
              "\n",
              "   TOTAL_VOLUME_CUBIC_FOOT  HAZMAT_FLAG  FREEZABLE_FLAG  DWELL_TIME  \\\n",
              "0                   587.88        False           False   63.483333   \n",
              "1                  1353.33        False           False   61.883333   \n",
              "2                  1151.83        False           False   78.833333   \n",
              "3                   330.67        False           False   26.583333   \n",
              "4                   832.32        False           False   38.716667   \n",
              "\n",
              "   NODE_VISIT_CNT dock_availability_indicator forklift_availability_indicator  \\\n",
              "0              37                           Y                               Y   \n",
              "1              62                           Y                               N   \n",
              "2             373                           Y                               Y   \n",
              "3              46                           Y                               Y   \n",
              "4             128                           Y                               Y   \n",
              "\n",
              "  customer_location_type  \n",
              "0    Business/Commercial  \n",
              "1    Business/Commercial  \n",
              "2    Business/Commercial  \n",
              "3    Distribution Center  \n",
              "4    Business/Commercial  "
            ],
            "text/html": [
              "\n",
              "  <div id=\"df-e42dd9ff-8a01-407d-8da6-21468f85f7fa\">\n",
              "    <div class=\"colab-df-container\">\n",
              "      <div>\n",
              "<style scoped>\n",
              "    .dataframe tbody tr th:only-of-type {\n",
              "        vertical-align: middle;\n",
              "    }\n",
              "\n",
              "    .dataframe tbody tr th {\n",
              "        vertical-align: top;\n",
              "    }\n",
              "\n",
              "    .dataframe thead th {\n",
              "        text-align: right;\n",
              "    }\n",
              "</style>\n",
              "<table border=\"1\" class=\"dataframe\">\n",
              "  <thead>\n",
              "    <tr style=\"text-align: right;\">\n",
              "      <th></th>\n",
              "      <th>DL</th>\n",
              "      <th>DP</th>\n",
              "      <th>HE</th>\n",
              "      <th>HK</th>\n",
              "      <th>HL</th>\n",
              "      <th>PU</th>\n",
              "      <th>SE</th>\n",
              "      <th>SL</th>\n",
              "      <th>WEIGHT</th>\n",
              "      <th>MOTORIZED_PIECES_COUNT</th>\n",
              "      <th>TOTAL_VOLUME_CUBIC_FOOT</th>\n",
              "      <th>HAZMAT_FLAG</th>\n",
              "      <th>FREEZABLE_FLAG</th>\n",
              "      <th>DWELL_TIME</th>\n",
              "      <th>NODE_VISIT_CNT</th>\n",
              "      <th>dock_availability_indicator</th>\n",
              "      <th>forklift_availability_indicator</th>\n",
              "      <th>customer_location_type</th>\n",
              "    </tr>\n",
              "  </thead>\n",
              "  <tbody>\n",
              "    <tr>\n",
              "      <th>0</th>\n",
              "      <td>1</td>\n",
              "      <td>0</td>\n",
              "      <td>0</td>\n",
              "      <td>0</td>\n",
              "      <td>0</td>\n",
              "      <td>0</td>\n",
              "      <td>0</td>\n",
              "      <td>0</td>\n",
              "      <td>17177</td>\n",
              "      <td>12</td>\n",
              "      <td>587.88</td>\n",
              "      <td>False</td>\n",
              "      <td>False</td>\n",
              "      <td>63.483333</td>\n",
              "      <td>37</td>\n",
              "      <td>Y</td>\n",
              "      <td>Y</td>\n",
              "      <td>Business/Commercial</td>\n",
              "    </tr>\n",
              "    <tr>\n",
              "      <th>1</th>\n",
              "      <td>2</td>\n",
              "      <td>0</td>\n",
              "      <td>0</td>\n",
              "      <td>0</td>\n",
              "      <td>0</td>\n",
              "      <td>0</td>\n",
              "      <td>0</td>\n",
              "      <td>0</td>\n",
              "      <td>4553</td>\n",
              "      <td>22</td>\n",
              "      <td>1353.33</td>\n",
              "      <td>False</td>\n",
              "      <td>False</td>\n",
              "      <td>61.883333</td>\n",
              "      <td>62</td>\n",
              "      <td>Y</td>\n",
              "      <td>N</td>\n",
              "      <td>Business/Commercial</td>\n",
              "    </tr>\n",
              "    <tr>\n",
              "      <th>2</th>\n",
              "      <td>16</td>\n",
              "      <td>0</td>\n",
              "      <td>0</td>\n",
              "      <td>0</td>\n",
              "      <td>0</td>\n",
              "      <td>0</td>\n",
              "      <td>0</td>\n",
              "      <td>0</td>\n",
              "      <td>10355</td>\n",
              "      <td>39</td>\n",
              "      <td>1151.83</td>\n",
              "      <td>False</td>\n",
              "      <td>False</td>\n",
              "      <td>78.833333</td>\n",
              "      <td>373</td>\n",
              "      <td>Y</td>\n",
              "      <td>Y</td>\n",
              "      <td>Business/Commercial</td>\n",
              "    </tr>\n",
              "    <tr>\n",
              "      <th>3</th>\n",
              "      <td>1</td>\n",
              "      <td>0</td>\n",
              "      <td>0</td>\n",
              "      <td>0</td>\n",
              "      <td>0</td>\n",
              "      <td>0</td>\n",
              "      <td>0</td>\n",
              "      <td>0</td>\n",
              "      <td>1911</td>\n",
              "      <td>1</td>\n",
              "      <td>330.67</td>\n",
              "      <td>False</td>\n",
              "      <td>False</td>\n",
              "      <td>26.583333</td>\n",
              "      <td>46</td>\n",
              "      <td>Y</td>\n",
              "      <td>Y</td>\n",
              "      <td>Distribution Center</td>\n",
              "    </tr>\n",
              "    <tr>\n",
              "      <th>4</th>\n",
              "      <td>0</td>\n",
              "      <td>0</td>\n",
              "      <td>0</td>\n",
              "      <td>0</td>\n",
              "      <td>0</td>\n",
              "      <td>3</td>\n",
              "      <td>0</td>\n",
              "      <td>0</td>\n",
              "      <td>14787</td>\n",
              "      <td>21</td>\n",
              "      <td>832.32</td>\n",
              "      <td>False</td>\n",
              "      <td>False</td>\n",
              "      <td>38.716667</td>\n",
              "      <td>128</td>\n",
              "      <td>Y</td>\n",
              "      <td>Y</td>\n",
              "      <td>Business/Commercial</td>\n",
              "    </tr>\n",
              "  </tbody>\n",
              "</table>\n",
              "</div>\n",
              "      <button class=\"colab-df-convert\" onclick=\"convertToInteractive('df-e42dd9ff-8a01-407d-8da6-21468f85f7fa')\"\n",
              "              title=\"Convert this dataframe to an interactive table.\"\n",
              "              style=\"display:none;\">\n",
              "        \n",
              "  <svg xmlns=\"http://www.w3.org/2000/svg\" height=\"24px\"viewBox=\"0 0 24 24\"\n",
              "       width=\"24px\">\n",
              "    <path d=\"M0 0h24v24H0V0z\" fill=\"none\"/>\n",
              "    <path d=\"M18.56 5.44l.94 2.06.94-2.06 2.06-.94-2.06-.94-.94-2.06-.94 2.06-2.06.94zm-11 1L8.5 8.5l.94-2.06 2.06-.94-2.06-.94L8.5 2.5l-.94 2.06-2.06.94zm10 10l.94 2.06.94-2.06 2.06-.94-2.06-.94-.94-2.06-.94 2.06-2.06.94z\"/><path d=\"M17.41 7.96l-1.37-1.37c-.4-.4-.92-.59-1.43-.59-.52 0-1.04.2-1.43.59L10.3 9.45l-7.72 7.72c-.78.78-.78 2.05 0 2.83L4 21.41c.39.39.9.59 1.41.59.51 0 1.02-.2 1.41-.59l7.78-7.78 2.81-2.81c.8-.78.8-2.07 0-2.86zM5.41 20L4 18.59l7.72-7.72 1.47 1.35L5.41 20z\"/>\n",
              "  </svg>\n",
              "      </button>\n",
              "      \n",
              "  <style>\n",
              "    .colab-df-container {\n",
              "      display:flex;\n",
              "      flex-wrap:wrap;\n",
              "      gap: 12px;\n",
              "    }\n",
              "\n",
              "    .colab-df-convert {\n",
              "      background-color: #E8F0FE;\n",
              "      border: none;\n",
              "      border-radius: 50%;\n",
              "      cursor: pointer;\n",
              "      display: none;\n",
              "      fill: #1967D2;\n",
              "      height: 32px;\n",
              "      padding: 0 0 0 0;\n",
              "      width: 32px;\n",
              "    }\n",
              "\n",
              "    .colab-df-convert:hover {\n",
              "      background-color: #E2EBFA;\n",
              "      box-shadow: 0px 1px 2px rgba(60, 64, 67, 0.3), 0px 1px 3px 1px rgba(60, 64, 67, 0.15);\n",
              "      fill: #174EA6;\n",
              "    }\n",
              "\n",
              "    [theme=dark] .colab-df-convert {\n",
              "      background-color: #3B4455;\n",
              "      fill: #D2E3FC;\n",
              "    }\n",
              "\n",
              "    [theme=dark] .colab-df-convert:hover {\n",
              "      background-color: #434B5C;\n",
              "      box-shadow: 0px 1px 3px 1px rgba(0, 0, 0, 0.15);\n",
              "      filter: drop-shadow(0px 1px 2px rgba(0, 0, 0, 0.3));\n",
              "      fill: #FFFFFF;\n",
              "    }\n",
              "  </style>\n",
              "\n",
              "      <script>\n",
              "        const buttonEl =\n",
              "          document.querySelector('#df-e42dd9ff-8a01-407d-8da6-21468f85f7fa button.colab-df-convert');\n",
              "        buttonEl.style.display =\n",
              "          google.colab.kernel.accessAllowed ? 'block' : 'none';\n",
              "\n",
              "        async function convertToInteractive(key) {\n",
              "          const element = document.querySelector('#df-e42dd9ff-8a01-407d-8da6-21468f85f7fa');\n",
              "          const dataTable =\n",
              "            await google.colab.kernel.invokeFunction('convertToInteractive',\n",
              "                                                     [key], {});\n",
              "          if (!dataTable) return;\n",
              "\n",
              "          const docLinkHtml = 'Like what you see? Visit the ' +\n",
              "            '<a target=\"_blank\" href=https://colab.research.google.com/notebooks/data_table.ipynb>data table notebook</a>'\n",
              "            + ' to learn more about interactive tables.';\n",
              "          element.innerHTML = '';\n",
              "          dataTable['output_type'] = 'display_data';\n",
              "          await google.colab.output.renderOutput(dataTable, element);\n",
              "          const docLink = document.createElement('div');\n",
              "          docLink.innerHTML = docLinkHtml;\n",
              "          element.appendChild(docLink);\n",
              "        }\n",
              "      </script>\n",
              "    </div>\n",
              "  </div>\n",
              "  "
            ]
          },
          "metadata": {},
          "execution_count": 4
        }
      ]
    },
    {
      "cell_type": "code",
      "metadata": {
        "colab": {
          "base_uri": "https://localhost:8080/"
        },
        "id": "DQFJB0WGtJrJ",
        "outputId": "095d41ed-273e-4a59-f6f4-286a176094bd"
      },
      "source": [
        "data.columns"
      ],
      "execution_count": 5,
      "outputs": [
        {
          "output_type": "execute_result",
          "data": {
            "text/plain": [
              "Index(['DL', 'DP', 'HE', 'HK', 'HL', 'PU', 'SE', 'SL', 'WEIGHT',\n",
              "       'MOTORIZED_PIECES_COUNT', 'TOTAL_VOLUME_CUBIC_FOOT', 'HAZMAT_FLAG',\n",
              "       'FREEZABLE_FLAG', 'DWELL_TIME', 'NODE_VISIT_CNT',\n",
              "       'dock_availability_indicator', 'forklift_availability_indicator',\n",
              "       'customer_location_type'],\n",
              "      dtype='object')"
            ]
          },
          "metadata": {},
          "execution_count": 5
        }
      ]
    },
    {
      "cell_type": "code",
      "metadata": {
        "colab": {
          "base_uri": "https://localhost:8080/"
        },
        "id": "4xYlkewYtKse",
        "outputId": "c45f644b-c4b9-4491-8178-5b9dd8ea1cd7"
      },
      "source": [
        "data.info()"
      ],
      "execution_count": 6,
      "outputs": [
        {
          "output_type": "stream",
          "name": "stdout",
          "text": [
            "<class 'pandas.core.frame.DataFrame'>\n",
            "RangeIndex: 13726 entries, 0 to 13725\n",
            "Data columns (total 18 columns):\n",
            " #   Column                           Non-Null Count  Dtype  \n",
            "---  ------                           --------------  -----  \n",
            " 0   DL                               13726 non-null  int64  \n",
            " 1   DP                               13726 non-null  int64  \n",
            " 2   HE                               13726 non-null  int64  \n",
            " 3   HK                               13726 non-null  int64  \n",
            " 4   HL                               13726 non-null  int64  \n",
            " 5   PU                               13726 non-null  int64  \n",
            " 6   SE                               13726 non-null  int64  \n",
            " 7   SL                               13726 non-null  int64  \n",
            " 8   WEIGHT                           13726 non-null  int64  \n",
            " 9   MOTORIZED_PIECES_COUNT           13726 non-null  int64  \n",
            " 10  TOTAL_VOLUME_CUBIC_FOOT          13726 non-null  float64\n",
            " 11  HAZMAT_FLAG                      13726 non-null  bool   \n",
            " 12  FREEZABLE_FLAG                   13726 non-null  bool   \n",
            " 13  DWELL_TIME                       13726 non-null  float64\n",
            " 14  NODE_VISIT_CNT                   13726 non-null  int64  \n",
            " 15  dock_availability_indicator      13726 non-null  object \n",
            " 16  forklift_availability_indicator  13726 non-null  object \n",
            " 17  customer_location_type           13726 non-null  object \n",
            "dtypes: bool(2), float64(2), int64(11), object(3)\n",
            "memory usage: 1.7+ MB\n"
          ]
        }
      ]
    },
    {
      "cell_type": "code",
      "metadata": {
        "colab": {
          "base_uri": "https://localhost:8080/",
          "height": 364
        },
        "id": "sGrWKqCetOFE",
        "outputId": "b0a46ba1-13c0-481b-9d2f-323469fd35fa"
      },
      "source": [
        "data.describe()"
      ],
      "execution_count": 7,
      "outputs": [
        {
          "output_type": "execute_result",
          "data": {
            "text/plain": [
              "                 DL       DP       HE       HK            HL            PU  \\\n",
              "count  13726.000000  13726.0  13726.0  13726.0  13726.000000  13726.000000   \n",
              "mean       0.857570      0.0      0.0      0.0      0.001239      0.715649   \n",
              "std        1.042714      0.0      0.0      0.0      0.145103      1.648119   \n",
              "min        0.000000      0.0      0.0      0.0      0.000000      0.000000   \n",
              "25%        0.000000      0.0      0.0      0.0      0.000000      0.000000   \n",
              "50%        1.000000      0.0      0.0      0.0      0.000000      0.000000   \n",
              "75%        1.000000      0.0      0.0      0.0      0.000000      1.000000   \n",
              "max       21.000000      0.0      0.0      0.0     17.000000     38.000000   \n",
              "\n",
              "            SE            SL        WEIGHT  MOTORIZED_PIECES_COUNT  \\\n",
              "count  13726.0  13726.000000  13726.000000            13726.000000   \n",
              "mean       0.0      0.000874   2767.807810                3.095366   \n",
              "std        0.0      0.102426   3978.179346                5.630053   \n",
              "min        0.0      0.000000      6.000000                0.000000   \n",
              "25%        0.0      0.000000    836.000000                1.000000   \n",
              "50%        0.0      0.000000   1345.000000                1.000000   \n",
              "75%        0.0      0.000000   2861.000000                3.000000   \n",
              "max        0.0     12.000000  56730.000000              241.000000   \n",
              "\n",
              "       TOTAL_VOLUME_CUBIC_FOOT    DWELL_TIME  NODE_VISIT_CNT  \n",
              "count             13726.000000  13726.000000    13726.000000  \n",
              "mean                420.502586     35.566812       69.877167  \n",
              "std                 477.307026     18.944274      115.963824  \n",
              "min                  15.200000     10.000000        6.000000  \n",
              "25%                 237.662500     24.350000       20.000000  \n",
              "50%                 376.500000     31.291666       40.000000  \n",
              "75%                 509.430000     40.616667       89.000000  \n",
              "max               37381.690000    217.350000     3404.000000  "
            ],
            "text/html": [
              "\n",
              "  <div id=\"df-b4dcc6c3-476e-44b1-909c-a83bcd27ea88\">\n",
              "    <div class=\"colab-df-container\">\n",
              "      <div>\n",
              "<style scoped>\n",
              "    .dataframe tbody tr th:only-of-type {\n",
              "        vertical-align: middle;\n",
              "    }\n",
              "\n",
              "    .dataframe tbody tr th {\n",
              "        vertical-align: top;\n",
              "    }\n",
              "\n",
              "    .dataframe thead th {\n",
              "        text-align: right;\n",
              "    }\n",
              "</style>\n",
              "<table border=\"1\" class=\"dataframe\">\n",
              "  <thead>\n",
              "    <tr style=\"text-align: right;\">\n",
              "      <th></th>\n",
              "      <th>DL</th>\n",
              "      <th>DP</th>\n",
              "      <th>HE</th>\n",
              "      <th>HK</th>\n",
              "      <th>HL</th>\n",
              "      <th>PU</th>\n",
              "      <th>SE</th>\n",
              "      <th>SL</th>\n",
              "      <th>WEIGHT</th>\n",
              "      <th>MOTORIZED_PIECES_COUNT</th>\n",
              "      <th>TOTAL_VOLUME_CUBIC_FOOT</th>\n",
              "      <th>DWELL_TIME</th>\n",
              "      <th>NODE_VISIT_CNT</th>\n",
              "    </tr>\n",
              "  </thead>\n",
              "  <tbody>\n",
              "    <tr>\n",
              "      <th>count</th>\n",
              "      <td>13726.000000</td>\n",
              "      <td>13726.0</td>\n",
              "      <td>13726.0</td>\n",
              "      <td>13726.0</td>\n",
              "      <td>13726.000000</td>\n",
              "      <td>13726.000000</td>\n",
              "      <td>13726.0</td>\n",
              "      <td>13726.000000</td>\n",
              "      <td>13726.000000</td>\n",
              "      <td>13726.000000</td>\n",
              "      <td>13726.000000</td>\n",
              "      <td>13726.000000</td>\n",
              "      <td>13726.000000</td>\n",
              "    </tr>\n",
              "    <tr>\n",
              "      <th>mean</th>\n",
              "      <td>0.857570</td>\n",
              "      <td>0.0</td>\n",
              "      <td>0.0</td>\n",
              "      <td>0.0</td>\n",
              "      <td>0.001239</td>\n",
              "      <td>0.715649</td>\n",
              "      <td>0.0</td>\n",
              "      <td>0.000874</td>\n",
              "      <td>2767.807810</td>\n",
              "      <td>3.095366</td>\n",
              "      <td>420.502586</td>\n",
              "      <td>35.566812</td>\n",
              "      <td>69.877167</td>\n",
              "    </tr>\n",
              "    <tr>\n",
              "      <th>std</th>\n",
              "      <td>1.042714</td>\n",
              "      <td>0.0</td>\n",
              "      <td>0.0</td>\n",
              "      <td>0.0</td>\n",
              "      <td>0.145103</td>\n",
              "      <td>1.648119</td>\n",
              "      <td>0.0</td>\n",
              "      <td>0.102426</td>\n",
              "      <td>3978.179346</td>\n",
              "      <td>5.630053</td>\n",
              "      <td>477.307026</td>\n",
              "      <td>18.944274</td>\n",
              "      <td>115.963824</td>\n",
              "    </tr>\n",
              "    <tr>\n",
              "      <th>min</th>\n",
              "      <td>0.000000</td>\n",
              "      <td>0.0</td>\n",
              "      <td>0.0</td>\n",
              "      <td>0.0</td>\n",
              "      <td>0.000000</td>\n",
              "      <td>0.000000</td>\n",
              "      <td>0.0</td>\n",
              "      <td>0.000000</td>\n",
              "      <td>6.000000</td>\n",
              "      <td>0.000000</td>\n",
              "      <td>15.200000</td>\n",
              "      <td>10.000000</td>\n",
              "      <td>6.000000</td>\n",
              "    </tr>\n",
              "    <tr>\n",
              "      <th>25%</th>\n",
              "      <td>0.000000</td>\n",
              "      <td>0.0</td>\n",
              "      <td>0.0</td>\n",
              "      <td>0.0</td>\n",
              "      <td>0.000000</td>\n",
              "      <td>0.000000</td>\n",
              "      <td>0.0</td>\n",
              "      <td>0.000000</td>\n",
              "      <td>836.000000</td>\n",
              "      <td>1.000000</td>\n",
              "      <td>237.662500</td>\n",
              "      <td>24.350000</td>\n",
              "      <td>20.000000</td>\n",
              "    </tr>\n",
              "    <tr>\n",
              "      <th>50%</th>\n",
              "      <td>1.000000</td>\n",
              "      <td>0.0</td>\n",
              "      <td>0.0</td>\n",
              "      <td>0.0</td>\n",
              "      <td>0.000000</td>\n",
              "      <td>0.000000</td>\n",
              "      <td>0.0</td>\n",
              "      <td>0.000000</td>\n",
              "      <td>1345.000000</td>\n",
              "      <td>1.000000</td>\n",
              "      <td>376.500000</td>\n",
              "      <td>31.291666</td>\n",
              "      <td>40.000000</td>\n",
              "    </tr>\n",
              "    <tr>\n",
              "      <th>75%</th>\n",
              "      <td>1.000000</td>\n",
              "      <td>0.0</td>\n",
              "      <td>0.0</td>\n",
              "      <td>0.0</td>\n",
              "      <td>0.000000</td>\n",
              "      <td>1.000000</td>\n",
              "      <td>0.0</td>\n",
              "      <td>0.000000</td>\n",
              "      <td>2861.000000</td>\n",
              "      <td>3.000000</td>\n",
              "      <td>509.430000</td>\n",
              "      <td>40.616667</td>\n",
              "      <td>89.000000</td>\n",
              "    </tr>\n",
              "    <tr>\n",
              "      <th>max</th>\n",
              "      <td>21.000000</td>\n",
              "      <td>0.0</td>\n",
              "      <td>0.0</td>\n",
              "      <td>0.0</td>\n",
              "      <td>17.000000</td>\n",
              "      <td>38.000000</td>\n",
              "      <td>0.0</td>\n",
              "      <td>12.000000</td>\n",
              "      <td>56730.000000</td>\n",
              "      <td>241.000000</td>\n",
              "      <td>37381.690000</td>\n",
              "      <td>217.350000</td>\n",
              "      <td>3404.000000</td>\n",
              "    </tr>\n",
              "  </tbody>\n",
              "</table>\n",
              "</div>\n",
              "      <button class=\"colab-df-convert\" onclick=\"convertToInteractive('df-b4dcc6c3-476e-44b1-909c-a83bcd27ea88')\"\n",
              "              title=\"Convert this dataframe to an interactive table.\"\n",
              "              style=\"display:none;\">\n",
              "        \n",
              "  <svg xmlns=\"http://www.w3.org/2000/svg\" height=\"24px\"viewBox=\"0 0 24 24\"\n",
              "       width=\"24px\">\n",
              "    <path d=\"M0 0h24v24H0V0z\" fill=\"none\"/>\n",
              "    <path d=\"M18.56 5.44l.94 2.06.94-2.06 2.06-.94-2.06-.94-.94-2.06-.94 2.06-2.06.94zm-11 1L8.5 8.5l.94-2.06 2.06-.94-2.06-.94L8.5 2.5l-.94 2.06-2.06.94zm10 10l.94 2.06.94-2.06 2.06-.94-2.06-.94-.94-2.06-.94 2.06-2.06.94z\"/><path d=\"M17.41 7.96l-1.37-1.37c-.4-.4-.92-.59-1.43-.59-.52 0-1.04.2-1.43.59L10.3 9.45l-7.72 7.72c-.78.78-.78 2.05 0 2.83L4 21.41c.39.39.9.59 1.41.59.51 0 1.02-.2 1.41-.59l7.78-7.78 2.81-2.81c.8-.78.8-2.07 0-2.86zM5.41 20L4 18.59l7.72-7.72 1.47 1.35L5.41 20z\"/>\n",
              "  </svg>\n",
              "      </button>\n",
              "      \n",
              "  <style>\n",
              "    .colab-df-container {\n",
              "      display:flex;\n",
              "      flex-wrap:wrap;\n",
              "      gap: 12px;\n",
              "    }\n",
              "\n",
              "    .colab-df-convert {\n",
              "      background-color: #E8F0FE;\n",
              "      border: none;\n",
              "      border-radius: 50%;\n",
              "      cursor: pointer;\n",
              "      display: none;\n",
              "      fill: #1967D2;\n",
              "      height: 32px;\n",
              "      padding: 0 0 0 0;\n",
              "      width: 32px;\n",
              "    }\n",
              "\n",
              "    .colab-df-convert:hover {\n",
              "      background-color: #E2EBFA;\n",
              "      box-shadow: 0px 1px 2px rgba(60, 64, 67, 0.3), 0px 1px 3px 1px rgba(60, 64, 67, 0.15);\n",
              "      fill: #174EA6;\n",
              "    }\n",
              "\n",
              "    [theme=dark] .colab-df-convert {\n",
              "      background-color: #3B4455;\n",
              "      fill: #D2E3FC;\n",
              "    }\n",
              "\n",
              "    [theme=dark] .colab-df-convert:hover {\n",
              "      background-color: #434B5C;\n",
              "      box-shadow: 0px 1px 3px 1px rgba(0, 0, 0, 0.15);\n",
              "      filter: drop-shadow(0px 1px 2px rgba(0, 0, 0, 0.3));\n",
              "      fill: #FFFFFF;\n",
              "    }\n",
              "  </style>\n",
              "\n",
              "      <script>\n",
              "        const buttonEl =\n",
              "          document.querySelector('#df-b4dcc6c3-476e-44b1-909c-a83bcd27ea88 button.colab-df-convert');\n",
              "        buttonEl.style.display =\n",
              "          google.colab.kernel.accessAllowed ? 'block' : 'none';\n",
              "\n",
              "        async function convertToInteractive(key) {\n",
              "          const element = document.querySelector('#df-b4dcc6c3-476e-44b1-909c-a83bcd27ea88');\n",
              "          const dataTable =\n",
              "            await google.colab.kernel.invokeFunction('convertToInteractive',\n",
              "                                                     [key], {});\n",
              "          if (!dataTable) return;\n",
              "\n",
              "          const docLinkHtml = 'Like what you see? Visit the ' +\n",
              "            '<a target=\"_blank\" href=https://colab.research.google.com/notebooks/data_table.ipynb>data table notebook</a>'\n",
              "            + ' to learn more about interactive tables.';\n",
              "          element.innerHTML = '';\n",
              "          dataTable['output_type'] = 'display_data';\n",
              "          await google.colab.output.renderOutput(dataTable, element);\n",
              "          const docLink = document.createElement('div');\n",
              "          docLink.innerHTML = docLinkHtml;\n",
              "          element.appendChild(docLink);\n",
              "        }\n",
              "      </script>\n",
              "    </div>\n",
              "  </div>\n",
              "  "
            ]
          },
          "metadata": {},
          "execution_count": 7
        }
      ]
    },
    {
      "cell_type": "code",
      "metadata": {
        "colab": {
          "base_uri": "https://localhost:8080/"
        },
        "id": "BNB5wP1pucI0",
        "outputId": "a8db944a-c250-47e0-eca2-bb0f07495861"
      },
      "source": [
        "data['customer_location_type'].value_counts()"
      ],
      "execution_count": null,
      "outputs": [
        {
          "output_type": "execute_result",
          "data": {
            "text/plain": [
              "Business/Commercial                                           11575\n",
              "Distribution Center                                            1254\n",
              "Shopping Mall/Strip Mall                                        175\n",
              "Grocery Warehouse                                               144\n",
              "U                                                               140\n",
              "Construction/Utility Sites: Construction Site                    54\n",
              "Government Sites: Military                                       48\n",
              "University/College                                               39\n",
              "Residential: Business Operating Within a Private Residence       38\n",
              "Residential: Residence                                           35\n",
              "Government Sites: Other Government Sites                         34\n",
              "Government Sites: Post Office                                    33\n",
              "Residential: School (K-12), Pre-School, Day Care                 32\n",
              "Construction/Utility Sites: Utility Site                         29\n",
              "Residential: Farm                                                27\n",
              "Government Sites: Prison/Correction Facility                     22\n",
              "Residential: Public Storage Facility                             18\n",
              "Government Sites: Airport                                         8\n",
              "Exhibition Sites: Exhibition Site or Convention Center            5\n",
              "Piers, Wharfs, CFS: Pier or Wharf                                 4\n",
              "Government Sites: Mine                                            4\n",
              "Government Sites: Natural Gas or Oil Field                        3\n",
              "Residential: Place of Worship                                     2\n",
              "Piers, Wharfs, CFS: Container Freight Station                     2\n",
              "Residential: Apartment                                            1\n",
              "Name: customer_location_type, dtype: int64"
            ]
          },
          "metadata": {
            "tags": []
          },
          "execution_count": 13
        }
      ]
    },
    {
      "cell_type": "code",
      "metadata": {
        "colab": {
          "base_uri": "https://localhost:8080/"
        },
        "id": "rPlJsXOd5Y4a",
        "outputId": "82769258-83f5-4bdc-a627-c21a1a35f2a2"
      },
      "source": [
        "data['HAZMAT_FLAG'].value_counts()"
      ],
      "execution_count": null,
      "outputs": [
        {
          "output_type": "execute_result",
          "data": {
            "text/plain": [
              "False    13127\n",
              "True       599\n",
              "Name: HAZMAT_FLAG, dtype: int64"
            ]
          },
          "metadata": {
            "tags": []
          },
          "execution_count": 14
        }
      ]
    },
    {
      "cell_type": "code",
      "metadata": {
        "colab": {
          "base_uri": "https://localhost:8080/"
        },
        "id": "YsYHCwGu5ZOX",
        "outputId": "7027b584-6ae1-4d97-e42b-fb4600782f36"
      },
      "source": [
        "data['FREEZABLE_FLAG'].value_counts()"
      ],
      "execution_count": null,
      "outputs": [
        {
          "output_type": "execute_result",
          "data": {
            "text/plain": [
              "False    13647\n",
              "True        79\n",
              "Name: FREEZABLE_FLAG, dtype: int64"
            ]
          },
          "metadata": {
            "tags": []
          },
          "execution_count": 15
        }
      ]
    },
    {
      "cell_type": "code",
      "metadata": {
        "colab": {
          "base_uri": "https://localhost:8080/"
        },
        "id": "bFpuzMGUylOY",
        "outputId": "68ad5dff-c137-49ee-bece-904e439fd60a"
      },
      "source": [
        "data['dock_availability_indicator'].value_counts()"
      ],
      "execution_count": null,
      "outputs": [
        {
          "output_type": "execute_result",
          "data": {
            "text/plain": [
              "Y    10080\n",
              "N     3506\n",
              "U      140\n",
              "Name: dock_availability_indicator, dtype: int64"
            ]
          },
          "metadata": {
            "tags": []
          },
          "execution_count": 16
        }
      ]
    },
    {
      "cell_type": "code",
      "metadata": {
        "colab": {
          "base_uri": "https://localhost:8080/"
        },
        "id": "QG4kqGJ95YG0",
        "outputId": "3cfa1b7b-4715-490b-d165-7d3885f6e6e0"
      },
      "source": [
        "data['forklift_availability_indicator'].value_counts()"
      ],
      "execution_count": null,
      "outputs": [
        {
          "output_type": "execute_result",
          "data": {
            "text/plain": [
              "Y    12111\n",
              "N     1613\n",
              "U        2\n",
              "Name: forklift_availability_indicator, dtype: int64"
            ]
          },
          "metadata": {
            "tags": []
          },
          "execution_count": 17
        }
      ]
    },
    {
      "cell_type": "code",
      "metadata": {
        "colab": {
          "base_uri": "https://localhost:8080/"
        },
        "id": "PXLKrdA-5Ycb",
        "outputId": "e991243a-ab9c-4b13-95bf-b9d9f07a9348"
      },
      "source": [
        "data['customer_location_type'].value_counts()"
      ],
      "execution_count": null,
      "outputs": [
        {
          "output_type": "execute_result",
          "data": {
            "text/plain": [
              "Business/Commercial                                           11575\n",
              "Distribution Center                                            1254\n",
              "Shopping Mall/Strip Mall                                        175\n",
              "Grocery Warehouse                                               144\n",
              "U                                                               140\n",
              "Construction/Utility Sites: Construction Site                    54\n",
              "Government Sites: Military                                       48\n",
              "University/College                                               39\n",
              "Residential: Business Operating Within a Private Residence       38\n",
              "Residential: Residence                                           35\n",
              "Government Sites: Other Government Sites                         34\n",
              "Government Sites: Post Office                                    33\n",
              "Residential: School (K-12), Pre-School, Day Care                 32\n",
              "Construction/Utility Sites: Utility Site                         29\n",
              "Residential: Farm                                                27\n",
              "Government Sites: Prison/Correction Facility                     22\n",
              "Residential: Public Storage Facility                             18\n",
              "Government Sites: Airport                                         8\n",
              "Exhibition Sites: Exhibition Site or Convention Center            5\n",
              "Piers, Wharfs, CFS: Pier or Wharf                                 4\n",
              "Government Sites: Mine                                            4\n",
              "Government Sites: Natural Gas or Oil Field                        3\n",
              "Residential: Place of Worship                                     2\n",
              "Piers, Wharfs, CFS: Container Freight Station                     2\n",
              "Residential: Apartment                                            1\n",
              "Name: customer_location_type, dtype: int64"
            ]
          },
          "metadata": {
            "tags": []
          },
          "execution_count": 18
        }
      ]
    },
    {
      "cell_type": "code",
      "metadata": {
        "colab": {
          "base_uri": "https://localhost:8080/"
        },
        "id": "G3uUq0_mGyUK",
        "outputId": "bd10ea2f-b07f-49ec-fdc6-5aae8717d685"
      },
      "source": [
        "data.isnull().sum(axis = 0)"
      ],
      "execution_count": null,
      "outputs": [
        {
          "output_type": "execute_result",
          "data": {
            "text/plain": [
              "DL                                 0\n",
              "DP                                 0\n",
              "HE                                 0\n",
              "HK                                 0\n",
              "HL                                 0\n",
              "PU                                 0\n",
              "SE                                 0\n",
              "SL                                 0\n",
              "WEIGHT                             0\n",
              "MOTORIZED_PIECES_COUNT             0\n",
              "TOTAL_VOLUME_CUBIC_FOOT            0\n",
              "HAZMAT_FLAG                        0\n",
              "FREEZABLE_FLAG                     0\n",
              "DWELL_TIME                         0\n",
              "NODE_VISIT_CNT                     0\n",
              "dock_availability_indicator        0\n",
              "forklift_availability_indicator    0\n",
              "customer_location_type             0\n",
              "dtype: int64"
            ]
          },
          "metadata": {
            "tags": []
          },
          "execution_count": 72
        }
      ]
    },
    {
      "cell_type": "code",
      "metadata": {
        "id": "u3kxPk9mGyw-"
      },
      "source": [
        "def calc_percentiles(df, attr, start, stop, step_size):\n",
        "    '''Function to calculate parcentiles in a given range'''\n",
        "    ##start: start percentile range from\n",
        "    ##stop: stop percentile range at\n",
        "    ##step_size: calculate percentiles at each interval of step size\n",
        "    for i in range(start, stop, step_size):\n",
        "        print(f'{i} th percentile value of given attribute is {np.percentile(df[attr], i)}')"
      ],
      "execution_count": 9,
      "outputs": []
    },
    {
      "cell_type": "code",
      "metadata": {
        "colab": {
          "base_uri": "https://localhost:8080/"
        },
        "id": "QwSK_n8cG8Bk",
        "outputId": "d919d3ee-e43f-4184-c3c6-5f0ecaccd4df"
      },
      "source": [
        "calc_percentiles(data, 'WEIGHT', 0, 100, 25)"
      ],
      "execution_count": null,
      "outputs": [
        {
          "output_type": "stream",
          "text": [
            "0 th percentile value of given attribute is 6.0\n",
            "25 th percentile value of given attribute is 836.0\n",
            "50 th percentile value of given attribute is 1345.0\n",
            "75 th percentile value of given attribute is 2861.0\n"
          ],
          "name": "stdout"
        }
      ]
    },
    {
      "cell_type": "code",
      "source": [
        "calc_percentiles(data, 'DL', 75, 101, 1)"
      ],
      "metadata": {
        "colab": {
          "base_uri": "https://localhost:8080/"
        },
        "id": "ozbg3ryX4qqO",
        "outputId": "fe7a332b-e57c-461b-840a-266f9b7dccf9"
      },
      "execution_count": 10,
      "outputs": [
        {
          "output_type": "stream",
          "name": "stdout",
          "text": [
            "75 th percentile value of given attribute is 1.0\n",
            "76 th percentile value of given attribute is 1.0\n",
            "77 th percentile value of given attribute is 1.0\n",
            "78 th percentile value of given attribute is 1.0\n",
            "79 th percentile value of given attribute is 1.0\n",
            "80 th percentile value of given attribute is 1.0\n",
            "81 th percentile value of given attribute is 1.0\n",
            "82 th percentile value of given attribute is 1.0\n",
            "83 th percentile value of given attribute is 1.0\n",
            "84 th percentile value of given attribute is 1.0\n",
            "85 th percentile value of given attribute is 1.0\n",
            "86 th percentile value of given attribute is 1.0\n",
            "87 th percentile value of given attribute is 1.0\n",
            "88 th percentile value of given attribute is 1.0\n",
            "89 th percentile value of given attribute is 1.0\n",
            "90 th percentile value of given attribute is 2.0\n",
            "91 th percentile value of given attribute is 2.0\n",
            "92 th percentile value of given attribute is 2.0\n",
            "93 th percentile value of given attribute is 2.0\n",
            "94 th percentile value of given attribute is 2.0\n",
            "95 th percentile value of given attribute is 2.0\n",
            "96 th percentile value of given attribute is 2.0\n",
            "97 th percentile value of given attribute is 3.0\n",
            "98 th percentile value of given attribute is 3.0\n",
            "99 th percentile value of given attribute is 5.0\n",
            "100 th percentile value of given attribute is 21.0\n"
          ]
        }
      ]
    },
    {
      "cell_type": "code",
      "metadata": {
        "colab": {
          "base_uri": "https://localhost:8080/",
          "height": 530
        },
        "id": "kcHk-oDxHsIB",
        "outputId": "c680bd6e-4911-4af4-e94e-12ef8131b4be"
      },
      "source": [
        "# Define your series\n",
        "s = pd.Series(data['WEIGHT'], name='value')\n",
        "df = pd.DataFrame(s)\n",
        "# Get to the CDF directly\n",
        "df['cdf'] = df.rank(method='average', pct = True)\n",
        "# Sort and plot\n",
        "df.sort_values('value').plot(x='value', y='cdf', grid=True, figsize=(15, 8),\n",
        "                             xlabel='Weights', title='CDF of Weights')"
      ],
      "execution_count": null,
      "outputs": [
        {
          "output_type": "execute_result",
          "data": {
            "text/plain": [
              "<matplotlib.axes._subplots.AxesSubplot at 0x7f8bb1ea0690>"
            ]
          },
          "metadata": {
            "tags": []
          },
          "execution_count": 75
        },
        {
          "output_type": "display_data",
          "data": {
            "image/png": "[encoded data removed]",
            "text/plain": [
              "<Figure size 1080x576 with 1 Axes>"
            ]
          },
          "metadata": {
            "tags": [],
            "needs_background": "light"
          }
        }
      ]
    },
    {
      "cell_type": "code",
      "metadata": {
        "colab": {
          "base_uri": "https://localhost:8080/"
        },
        "id": "VNw5YYTrG_0i",
        "outputId": "6e127fca-6def-40c2-b60c-e784d9b242c2"
      },
      "source": [
        "calc_percentiles(data, 'MOTORIZED_PIECES_COUNT', 0, 100, 25)"
      ],
      "execution_count": null,
      "outputs": [
        {
          "output_type": "stream",
          "text": [
            "0 th percentile value of given attribute is 0.0\n",
            "25 th percentile value of given attribute is 1.0\n",
            "50 th percentile value of given attribute is 1.0\n",
            "75 th percentile value of given attribute is 3.0\n"
          ],
          "name": "stdout"
        }
      ]
    },
    {
      "cell_type": "code",
      "source": [
        "calc_percentiles(data, 'MOTORIZED_PIECES_COUNT', 75, 101, 1)"
      ],
      "metadata": {
        "colab": {
          "base_uri": "https://localhost:8080/"
        },
        "id": "Nqo1LUZZ5VJB",
        "outputId": "d93b1cda-e226-43f4-fcfc-39d2e29fd3ae"
      },
      "execution_count": 11,
      "outputs": [
        {
          "output_type": "stream",
          "name": "stdout",
          "text": [
            "75 th percentile value of given attribute is 3.0\n",
            "76 th percentile value of given attribute is 3.0\n",
            "77 th percentile value of given attribute is 3.0\n",
            "78 th percentile value of given attribute is 4.0\n",
            "79 th percentile value of given attribute is 4.0\n",
            "80 th percentile value of given attribute is 4.0\n",
            "81 th percentile value of given attribute is 4.0\n",
            "82 th percentile value of given attribute is 4.0\n",
            "83 th percentile value of given attribute is 5.0\n",
            "84 th percentile value of given attribute is 5.0\n",
            "85 th percentile value of given attribute is 5.0\n",
            "86 th percentile value of given attribute is 5.0\n",
            "87 th percentile value of given attribute is 6.0\n",
            "88 th percentile value of given attribute is 6.0\n",
            "89 th percentile value of given attribute is 6.0\n",
            "90 th percentile value of given attribute is 7.0\n",
            "91 th percentile value of given attribute is 8.0\n",
            "92 th percentile value of given attribute is 8.0\n",
            "93 th percentile value of given attribute is 9.0\n",
            "94 th percentile value of given attribute is 10.0\n",
            "95 th percentile value of given attribute is 11.0\n",
            "96 th percentile value of given attribute is 12.0\n",
            "97 th percentile value of given attribute is 14.0\n",
            "98 th percentile value of given attribute is 17.0\n",
            "99 th percentile value of given attribute is 23.0\n",
            "100 th percentile value of given attribute is 241.0\n"
          ]
        }
      ]
    },
    {
      "cell_type": "code",
      "metadata": {
        "colab": {
          "base_uri": "https://localhost:8080/",
          "height": 530
        },
        "id": "cklRdlqWHtAS",
        "outputId": "2827d3ae-a92e-444f-f36b-d26de924b7cc"
      },
      "source": [
        "# Define your series\n",
        "s = pd.Series(data['MOTORIZED_PIECES_COUNT'], name='value')\n",
        "df = pd.DataFrame(s)\n",
        "# Get to the CDF directly\n",
        "df['cdf'] = df.rank(method='average', pct = True)\n",
        "# Sort and plot\n",
        "df.sort_values('value').plot(x='value', y='cdf', grid=True, figsize=(15, 8),\n",
        "                             xlabel='Count of Motorized Pieces', title='CDF of the Count of Motorized Pieces')"
      ],
      "execution_count": null,
      "outputs": [
        {
          "output_type": "execute_result",
          "data": {
            "text/plain": [
              "<matplotlib.axes._subplots.AxesSubplot at 0x7f8bb1cc0450>"
            ]
          },
          "metadata": {
            "tags": []
          },
          "execution_count": 77
        },
        {
          "output_type": "display_data",
          "data": {
            "image/png": "[encoded data removed]",
            "text/plain": [
              "<Figure size 1080x576 with 1 Axes>"
            ]
          },
          "metadata": {
            "tags": [],
            "needs_background": "light"
          }
        }
      ]
    },
    {
      "cell_type": "code",
      "metadata": {
        "colab": {
          "base_uri": "https://localhost:8080/"
        },
        "id": "VpzUu-HvHARt",
        "outputId": "acad31eb-3232-433b-ad14-4049cdfb0e60"
      },
      "source": [
        "calc_percentiles(data, 'TOTAL_VOLUME_CUBIC_FOOT', 0, 100, 25)"
      ],
      "execution_count": null,
      "outputs": [
        {
          "output_type": "stream",
          "text": [
            "0 th percentile value of given attribute is 15.2\n",
            "25 th percentile value of given attribute is 237.6625\n",
            "50 th percentile value of given attribute is 376.5\n",
            "75 th percentile value of given attribute is 509.42999999999995\n"
          ],
          "name": "stdout"
        }
      ]
    },
    {
      "cell_type": "code",
      "metadata": {
        "colab": {
          "base_uri": "https://localhost:8080/",
          "height": 530
        },
        "id": "XS2lXpGlHukk",
        "outputId": "0dc7f843-25ba-439b-f2ee-62d4ba11e205"
      },
      "source": [
        "# Define your series\n",
        "s = pd.Series(data['TOTAL_VOLUME_CUBIC_FOOT'], name='value')\n",
        "df = pd.DataFrame(s)\n",
        "# Get to the CDF directly\n",
        "df['cdf'] = df.rank(method='average', pct = True)\n",
        "# Sort and plot\n",
        "df.sort_values('value').plot(x='value', y='cdf', grid=True, figsize=(15, 8),\n",
        "                             xlabel='Total Volume in Cubic Foot', title='CDF of Total Volume in Cubic Foot')"
      ],
      "execution_count": null,
      "outputs": [
        {
          "output_type": "execute_result",
          "data": {
            "text/plain": [
              "<matplotlib.axes._subplots.AxesSubplot at 0x7f8bb1daa390>"
            ]
          },
          "metadata": {
            "tags": []
          },
          "execution_count": 79
        },
        {
          "output_type": "display_data",
          "data": {
            "image/png": "[encoded data removed]",
            "text/plain": [
              "<Figure size 1080x576 with 1 Axes>"
            ]
          },
          "metadata": {
            "tags": [],
            "needs_background": "light"
          }
        }
      ]
    },
    {
      "cell_type": "code",
      "metadata": {
        "colab": {
          "base_uri": "https://localhost:8080/"
        },
        "id": "LW9-8h3jHAr-",
        "outputId": "a25ccfdc-a2fa-420e-847c-af568fd07fd7"
      },
      "source": [
        "calc_percentiles(data, 'NODE_VISIT_CNT', 0, 100, 25)"
      ],
      "execution_count": null,
      "outputs": [
        {
          "output_type": "stream",
          "text": [
            "0 th percentile value of given attribute is 6.0\n",
            "25 th percentile value of given attribute is 20.0\n",
            "50 th percentile value of given attribute is 40.0\n",
            "75 th percentile value of given attribute is 89.0\n"
          ],
          "name": "stdout"
        }
      ]
    },
    {
      "cell_type": "code",
      "metadata": {
        "colab": {
          "base_uri": "https://localhost:8080/",
          "height": 530
        },
        "id": "3BZExa_EHvID",
        "outputId": "4c69aa7c-f4d1-452e-80ca-8a688c32b4b6"
      },
      "source": [
        "# Define your series\n",
        "s = pd.Series(data['NODE_VISIT_CNT'], name='value')\n",
        "df = pd.DataFrame(s)\n",
        "# Get to the CDF directly\n",
        "df['cdf'] = df.rank(method='average', pct = True)\n",
        "# Sort and plot\n",
        "df.sort_values('value').plot(x='value', y='cdf', grid=True, figsize=(15, 8),\n",
        "                             xlabel='Number of times a Customer Location is Visited in the past', title='CDF of Number of times a Customer Location is Visited in the past')"
      ],
      "execution_count": null,
      "outputs": [
        {
          "output_type": "execute_result",
          "data": {
            "text/plain": [
              "<matplotlib.axes._subplots.AxesSubplot at 0x7f8bb1e8e990>"
            ]
          },
          "metadata": {
            "tags": []
          },
          "execution_count": 81
        },
        {
          "output_type": "display_data",
          "data": {
            "image/png": "[encoded data removed]",
            "text/plain": [
              "<Figure size 1080x576 with 1 Axes>"
            ]
          },
          "metadata": {
            "tags": [],
            "needs_background": "light"
          }
        }
      ]
    },
    {
      "cell_type": "code",
      "metadata": {
        "colab": {
          "base_uri": "https://localhost:8080/",
          "height": 481
        },
        "id": "80C9-lKIHfB2",
        "outputId": "1a538b7a-124b-4a1e-c49f-feceb3612c1a"
      },
      "source": [
        "# Check the number of unique values in each column\n",
        "distinct_values = data.nunique().reset_index()\n",
        "distinct_values.columns = ['column','distinct_value_count']\n",
        "plt.figure(figsize=(15, 8))\n",
        "plt.title(\"Number of Unique Values in Each Column\")\n",
        "ax = sns.barplot(y='column', x='distinct_value_count', data=distinct_values, orient='h')\n",
        "plt.xlabel('Count')\n",
        "plt.ylabel('')\n",
        "for p in ax.patches:\n",
        "    width = p.get_width()\n",
        "    ax.annotate('{:1.0f}'.format(width), ((p.get_x() + p.get_width())*1.005, p.get_y()+0.55*p.get_height()), ha='left', va='center')"
      ],
      "execution_count": null,
      "outputs": [
        {
          "output_type": "display_data",
          "data": {
            "image/png": "[encoded data removed]",
            "text/plain": [
              "<Figure size 1080x576 with 1 Axes>"
            ]
          },
          "metadata": {
            "tags": [],
            "needs_background": "light"
          }
        }
      ]
    },
    {
      "cell_type": "code",
      "metadata": {
        "id": "alPLUNdtHe9K"
      },
      "source": [
        "def count_plot(data, x, hue, mytype):\n",
        "    '''Function to plot Histogram with respect to given arguments'''\n",
        "    plt.figure(figsize=(15, 8))\n",
        "    sns.set(font_scale=1)\n",
        "    sns.countplot(x=x, hue=hue, data=data, palette=None)\n",
        "    plt.xlabel(x, fontsize=20)\n",
        "    plt.ylabel('Count', fontsize=20)\n",
        "    plt.xticks(rotation='90')\n",
        "    if x == hue:\n",
        "        plt.title('Count Plot for {0} in the {1} data'.format(x, mytype), fontsize=25)\n",
        "    else:\n",
        "        plt.title('Count Plot for {0} versus {1} in the {2} data'.format(x, hue, mytype), fontsize=25)\n",
        "    plt.tight_layout()"
      ],
      "execution_count": null,
      "outputs": []
    },
    {
      "cell_type": "code",
      "metadata": {
        "colab": {
          "base_uri": "https://localhost:8080/",
          "height": 515
        },
        "id": "V5QMXri7He58",
        "outputId": "2a95abec-76e1-434b-90b4-660cda2d1656"
      },
      "source": [
        "count_plot(data, 'HAZMAT_FLAG', 'HAZMAT_FLAG', 'data')"
      ],
      "execution_count": null,
      "outputs": [
        {
          "output_type": "display_data",
          "data": {
            "image/png": "[encoded data removed]",
            "text/plain": [
              "<Figure size 1080x576 with 1 Axes>"
            ]
          },
          "metadata": {
            "tags": []
          }
        }
      ]
    },
    {
      "cell_type": "code",
      "metadata": {
        "colab": {
          "base_uri": "https://localhost:8080/",
          "height": 515
        },
        "id": "374j7cUFJAcg",
        "outputId": "4939a76e-89a4-4eb0-fb8e-948e563394d8"
      },
      "source": [
        "count_plot(data, 'FREEZABLE_FLAG', 'FREEZABLE_FLAG', 'data')"
      ],
      "execution_count": null,
      "outputs": [
        {
          "output_type": "display_data",
          "data": {
            "image/png": "[encoded data removed]",
            "text/plain": [
              "<Figure size 1080x576 with 1 Axes>"
            ]
          },
          "metadata": {
            "tags": []
          }
        }
      ]
    },
    {
      "cell_type": "code",
      "metadata": {
        "colab": {
          "base_uri": "https://localhost:8080/",
          "height": 515
        },
        "id": "6nrtkLYAJDBW",
        "outputId": "1d70fd18-1afa-4cda-97c9-fb55b263096b"
      },
      "source": [
        "count_plot(data, 'dock_availability_indicator', 'dock_availability_indicator', 'data')"
      ],
      "execution_count": null,
      "outputs": [
        {
          "output_type": "display_data",
          "data": {
            "image/png": "[encoded data removed]",
            "text/plain": [
              "<Figure size 1080x576 with 1 Axes>"
            ]
          },
          "metadata": {
            "tags": []
          }
        }
      ]
    },
    {
      "cell_type": "code",
      "metadata": {
        "colab": {
          "base_uri": "https://localhost:8080/",
          "height": 515
        },
        "id": "JmktKxo_JGxP",
        "outputId": "846c9b4b-41f9-42c9-8f7e-3f900c32d8e2"
      },
      "source": [
        "count_plot(data, 'forklift_availability_indicator', 'forklift_availability_indicator', 'data')"
      ],
      "execution_count": null,
      "outputs": [
        {
          "output_type": "display_data",
          "data": {
            "image/png": "[encoded data removed]",
            "text/plain": [
              "<Figure size 1080x576 with 1 Axes>"
            ]
          },
          "metadata": {
            "tags": []
          }
        }
      ]
    },
    {
      "cell_type": "code",
      "metadata": {
        "colab": {
          "base_uri": "https://localhost:8080/"
        },
        "id": "PqlxfuuYKFod",
        "outputId": "e7a1cf51-abba-46dc-d937-86348881731d"
      },
      "source": [
        "calc_percentiles(data, 'DWELL_TIME', 0, 101, 25)"
      ],
      "execution_count": 12,
      "outputs": [
        {
          "output_type": "stream",
          "name": "stdout",
          "text": [
            "0 th percentile value of given attribute is 10.0\n",
            "25 th percentile value of given attribute is 24.35\n",
            "50 th percentile value of given attribute is 31.291666499999998\n",
            "75 th percentile value of given attribute is 40.616667\n",
            "100 th percentile value of given attribute is 217.35\n"
          ]
        }
      ]
    },
    {
      "cell_type": "code",
      "source": [
        "calc_percentiles(data, 'DWELL_TIME', 90, 101, 1)"
      ],
      "metadata": {
        "colab": {
          "base_uri": "https://localhost:8080/"
        },
        "id": "ClRlHgW57m4H",
        "outputId": "49dc8a1e-aa51-44b9-d027-9a4e3d6b2b39"
      },
      "execution_count": 13,
      "outputs": [
        {
          "output_type": "stream",
          "name": "stdout",
          "text": [
            "90 th percentile value of given attribute is 55.183333\n",
            "91 th percentile value of given attribute is 57.29583325\n",
            "92 th percentile value of given attribute is 59.733333\n",
            "93 th percentile value of given attribute is 62.35\n",
            "94 th percentile value of given attribute is 66.033333\n",
            "95 th percentile value of given attribute is 69.89583350000001\n",
            "96 th percentile value of given attribute is 75.166667\n",
            "97 th percentile value of given attribute is 81.60416649999999\n",
            "98 th percentile value of given attribute is 91.033333\n",
            "99 th percentile value of given attribute is 111.729167\n",
            "100 th percentile value of given attribute is 217.35\n"
          ]
        }
      ]
    },
    {
      "cell_type": "code",
      "metadata": {
        "colab": {
          "base_uri": "https://localhost:8080/",
          "height": 535
        },
        "id": "Yufgqf0TJTdS",
        "outputId": "fc8f76f7-dd2c-45a0-957c-1f60cc096a69"
      },
      "source": [
        "# Define your series\n",
        "s = pd.Series(data['DWELL_TIME'], name='value')\n",
        "df = pd.DataFrame(s)\n",
        "# Get to the CDF directly\n",
        "df['cdf'] = df.rank(method='average', pct = True)\n",
        "# Sort and plot\n",
        "df.sort_values('value').plot(x='value', y='cdf', grid=True, figsize=(15, 8),\n",
        "                             xlabel='Dwell Time', title='CDF of Dwell Time')"
      ],
      "execution_count": null,
      "outputs": [
        {
          "output_type": "execute_result",
          "data": {
            "text/plain": [
              "<matplotlib.axes._subplots.AxesSubplot at 0x7f8bb0ab6550>"
            ]
          },
          "metadata": {
            "tags": []
          },
          "execution_count": 92
        },
        {
          "output_type": "display_data",
          "data": {
            "image/png": "[encoded data removed]",
            "text/plain": [
              "<Figure size 1080x576 with 1 Axes>"
            ]
          },
          "metadata": {
            "tags": []
          }
        }
      ]
    },
    {
      "cell_type": "code",
      "metadata": {
        "id": "N1s6yPNqvVOV"
      },
      "source": [
        "y = data['DWELL_TIME']\n",
        "X = data.drop(columns=['DWELL_TIME'])"
      ],
      "execution_count": null,
      "outputs": []
    },
    {
      "cell_type": "code",
      "metadata": {
        "colab": {
          "base_uri": "https://localhost:8080/"
        },
        "id": "GQlXUXoQvtqz",
        "outputId": "ed9f33a4-6f93-42ff-f9fa-e3b6d98ed1f0"
      },
      "source": [
        "print(X.shape)\n",
        "print(len(y))"
      ],
      "execution_count": null,
      "outputs": [
        {
          "output_type": "stream",
          "text": [
            "(13726, 17)\n",
            "13726\n"
          ],
          "name": "stdout"
        }
      ]
    },
    {
      "cell_type": "code",
      "metadata": {
        "colab": {
          "base_uri": "https://localhost:8080/"
        },
        "id": "I2pr3e5ivRJl",
        "outputId": "b68414ce-54c5-4966-f434-0b103b5bc551"
      },
      "source": [
        "X_train, X_test, y_train, y_test = train_test_split(X, y, test_size=0.2, random_state=42)\n",
        "\n",
        "print(X_train.shape)\n",
        "print(len(y_train))\n",
        "print(X_test.shape)\n",
        "print(len(y_test))"
      ],
      "execution_count": null,
      "outputs": [
        {
          "output_type": "stream",
          "text": [
            "(10980, 17)\n",
            "10980\n",
            "(2746, 17)\n",
            "2746\n"
          ],
          "name": "stdout"
        }
      ]
    },
    {
      "cell_type": "markdown",
      "metadata": {
        "id": "X5ns-rs7zbr2"
      },
      "source": [
        "##**2. Feature Engineering & Feature Selection**"
      ]
    },
    {
      "cell_type": "markdown",
      "metadata": {
        "id": "pfIMsvUQU12l"
      },
      "source": [
        "***Section: Feature Engineering & Feature Selection***\n",
        "\n",
        "1. Apart from the given 17 features, new potential features can be constructed which might help in making better predictions. \n",
        "2. These newly constructed features can be either derived from some of the existing features or can be engineered totally from scratch or by studying the data in more depth.\n",
        "3. It might often happen that not all the features that we have contribute largely towards making predictions. They can add to the risk of curse of dimensionality leading to dip in the model performance.\n",
        "4. Dimensionality Reduction Techniques such as PCA, t-SNE, Forward Feature Selection, Backward Feature Selection, etc. can be applied to make sure that we eliminate useless features. This can be also done by plotting a graph of feature importance after building each model. \n",
        "5. Given the limited time, I wasn't able to put much time into engineering new features, thus, mentioning the idea here as if given more time, I can try spending some time of it. "
      ]
    },
    {
      "cell_type": "markdown",
      "metadata": {
        "id": "PH5lLVt0xqiM"
      },
      "source": [
        "##**3. Data Preprocessing**"
      ]
    },
    {
      "cell_type": "markdown",
      "metadata": {
        "id": "Uage1OiMQjO0"
      },
      "source": [
        "***Section Summary: Data Preprocessing***\n",
        "\n",
        "1. As seen in the EDA section, there are some columns that have an unkown value 'U' present in them. These data points doesn't make much sense, thus as discussed, such data points cane be either dropped or replaced / imputed with techniques such as mean imputation, median imputation or imputation based on most frequent values in that particular column. I have implemented the later approach in this case. \n",
        "\n",
        "2. Also, different numerical columns have differet range of values. Thus, it might happen that features having greater range of values can dominate over the ones with having smaller range of values. This might hamper our hamper our model and would lead to significant drop in the performance. Thus, in order to avoid this, I have applied min-max normalization over numerical columns.\n",
        "\n",
        "3. Machine Learning Models are mathemtical models which understand only numeric data. Feeding textual data doesn't make any sense. Thus, I have applied encoding on categorical and boolean columns to convert them into numericals. Thus, this will make sense and we can apply ML techniques on that.  "
      ]
    },
    {
      "cell_type": "code",
      "metadata": {
        "colab": {
          "base_uri": "https://localhost:8080/"
        },
        "id": "Hz3srdeS0ub1",
        "outputId": "348fed1d-cb12-4c37-fcba-80069d72626e"
      },
      "source": [
        "X_train['dock_availability_indicator'].value_counts()"
      ],
      "execution_count": null,
      "outputs": [
        {
          "output_type": "execute_result",
          "data": {
            "text/plain": [
              "Y    8068\n",
              "N    2798\n",
              "U     114\n",
              "Name: dock_availability_indicator, dtype: int64"
            ]
          },
          "metadata": {
            "tags": []
          },
          "execution_count": 22
        }
      ]
    },
    {
      "cell_type": "code",
      "metadata": {
        "colab": {
          "base_uri": "https://localhost:8080/"
        },
        "id": "Mg30BN8b1fxx",
        "outputId": "9b35eed5-b947-4700-ac23-f208fc6b37d2"
      },
      "source": [
        "X_train.loc[(X_train.dock_availability_indicator == 'U'), 'dock_availability_indicator'] = 'Y'"
      ],
      "execution_count": null,
      "outputs": [
        {
          "output_type": "stream",
          "text": [
            "/usr/local/lib/python3.7/dist-packages/pandas/core/indexing.py:1763: SettingWithCopyWarning: \n",
            "A value is trying to be set on a copy of a slice from a DataFrame.\n",
            "Try using .loc[row_indexer,col_indexer] = value instead\n",
            "\n",
            "See the caveats in the documentation: https://pandas.pydata.org/pandas-docs/stable/user_guide/indexing.html#returning-a-view-versus-a-copy\n",
            "  isetter(loc, value)\n"
          ],
          "name": "stderr"
        }
      ]
    },
    {
      "cell_type": "code",
      "metadata": {
        "colab": {
          "base_uri": "https://localhost:8080/"
        },
        "id": "0ILfya7o1qkj",
        "outputId": "6f358de5-e43a-4180-8c15-b70923b1c5e3"
      },
      "source": [
        "X_train['dock_availability_indicator'].value_counts()"
      ],
      "execution_count": null,
      "outputs": [
        {
          "output_type": "execute_result",
          "data": {
            "text/plain": [
              "Y    8182\n",
              "N    2798\n",
              "Name: dock_availability_indicator, dtype: int64"
            ]
          },
          "metadata": {
            "tags": []
          },
          "execution_count": 25
        }
      ]
    },
    {
      "cell_type": "code",
      "metadata": {
        "colab": {
          "base_uri": "https://localhost:8080/"
        },
        "id": "XJP8vWNV04wi",
        "outputId": "5ea7cc42-70fc-49cd-eaf4-5ad0f16815fd"
      },
      "source": [
        "X_train['forklift_availability_indicator'].value_counts()"
      ],
      "execution_count": null,
      "outputs": [
        {
          "output_type": "execute_result",
          "data": {
            "text/plain": [
              "Y    9669\n",
              "N    1310\n",
              "U       1\n",
              "Name: forklift_availability_indicator, dtype: int64"
            ]
          },
          "metadata": {
            "tags": []
          },
          "execution_count": 26
        }
      ]
    },
    {
      "cell_type": "code",
      "metadata": {
        "colab": {
          "base_uri": "https://localhost:8080/"
        },
        "id": "2uENGy2e1ndu",
        "outputId": "2201a1bb-1069-4533-e2af-d45350b3573b"
      },
      "source": [
        "X_train.loc[(X_train.forklift_availability_indicator == 'U'), 'forklift_availability_indicator'] = 'Y'"
      ],
      "execution_count": null,
      "outputs": [
        {
          "output_type": "stream",
          "text": [
            "/usr/local/lib/python3.7/dist-packages/pandas/core/indexing.py:1763: SettingWithCopyWarning: \n",
            "A value is trying to be set on a copy of a slice from a DataFrame.\n",
            "Try using .loc[row_indexer,col_indexer] = value instead\n",
            "\n",
            "See the caveats in the documentation: https://pandas.pydata.org/pandas-docs/stable/user_guide/indexing.html#returning-a-view-versus-a-copy\n",
            "  isetter(loc, value)\n"
          ],
          "name": "stderr"
        }
      ]
    },
    {
      "cell_type": "code",
      "metadata": {
        "colab": {
          "base_uri": "https://localhost:8080/"
        },
        "id": "8IMCuzVJ1r2f",
        "outputId": "f6884726-f092-40e4-dc12-630bd82f36e7"
      },
      "source": [
        "X_train['forklift_availability_indicator'].value_counts()"
      ],
      "execution_count": null,
      "outputs": [
        {
          "output_type": "execute_result",
          "data": {
            "text/plain": [
              "Y    9670\n",
              "N    1310\n",
              "Name: forklift_availability_indicator, dtype: int64"
            ]
          },
          "metadata": {
            "tags": []
          },
          "execution_count": 28
        }
      ]
    },
    {
      "cell_type": "code",
      "metadata": {
        "colab": {
          "base_uri": "https://localhost:8080/"
        },
        "id": "fnzmDNNh6h8r",
        "outputId": "053005cd-96e1-471a-d9f1-a6aac5a0413a"
      },
      "source": [
        "X_train['customer_location_type'].value_counts()"
      ],
      "execution_count": null,
      "outputs": [
        {
          "output_type": "execute_result",
          "data": {
            "text/plain": [
              "Business/Commercial                                           9270\n",
              "Distribution Center                                           1001\n",
              "Shopping Mall/Strip Mall                                       135\n",
              "Grocery Warehouse                                              116\n",
              "U                                                              114\n",
              "Construction/Utility Sites: Construction Site                   44\n",
              "Government Sites: Military                                      39\n",
              "Government Sites: Other Government Sites                        32\n",
              "University/College                                              30\n",
              "Residential: School (K-12), Pre-School, Day Care                30\n",
              "Government Sites: Post Office                                   29\n",
              "Residential: Residence                                          27\n",
              "Residential: Business Operating Within a Private Residence      25\n",
              "Construction/Utility Sites: Utility Site                        22\n",
              "Residential: Farm                                               18\n",
              "Government Sites: Prison/Correction Facility                    14\n",
              "Residential: Public Storage Facility                             9\n",
              "Government Sites: Airport                                        7\n",
              "Exhibition Sites: Exhibition Site or Convention Center           5\n",
              "Piers, Wharfs, CFS: Pier or Wharf                                3\n",
              "Government Sites: Mine                                           3\n",
              "Government Sites: Natural Gas or Oil Field                       3\n",
              "Residential: Place of Worship                                    2\n",
              "Residential: Apartment                                           1\n",
              "Piers, Wharfs, CFS: Container Freight Station                    1\n",
              "Name: customer_location_type, dtype: int64"
            ]
          },
          "metadata": {
            "tags": []
          },
          "execution_count": 29
        }
      ]
    },
    {
      "cell_type": "code",
      "metadata": {
        "colab": {
          "base_uri": "https://localhost:8080/"
        },
        "id": "hUh8GT6w6in2",
        "outputId": "feeea125-c812-49bc-823e-b944d1e11bef"
      },
      "source": [
        "X_train.loc[(X_train.customer_location_type == 'U'), 'customer_location_type'] = 'Business/Commercial'"
      ],
      "execution_count": null,
      "outputs": [
        {
          "output_type": "stream",
          "text": [
            "/usr/local/lib/python3.7/dist-packages/pandas/core/indexing.py:1763: SettingWithCopyWarning: \n",
            "A value is trying to be set on a copy of a slice from a DataFrame.\n",
            "Try using .loc[row_indexer,col_indexer] = value instead\n",
            "\n",
            "See the caveats in the documentation: https://pandas.pydata.org/pandas-docs/stable/user_guide/indexing.html#returning-a-view-versus-a-copy\n",
            "  isetter(loc, value)\n"
          ],
          "name": "stderr"
        }
      ]
    },
    {
      "cell_type": "code",
      "metadata": {
        "colab": {
          "base_uri": "https://localhost:8080/"
        },
        "id": "H3pUmZR36ikc",
        "outputId": "32dd1e7c-fd26-4383-85ab-556db702fd21"
      },
      "source": [
        "X_train['customer_location_type'].value_counts()"
      ],
      "execution_count": null,
      "outputs": [
        {
          "output_type": "execute_result",
          "data": {
            "text/plain": [
              "Business/Commercial                                           9384\n",
              "Distribution Center                                           1001\n",
              "Shopping Mall/Strip Mall                                       135\n",
              "Grocery Warehouse                                              116\n",
              "Construction/Utility Sites: Construction Site                   44\n",
              "Government Sites: Military                                      39\n",
              "Government Sites: Other Government Sites                        32\n",
              "Residential: School (K-12), Pre-School, Day Care                30\n",
              "University/College                                              30\n",
              "Government Sites: Post Office                                   29\n",
              "Residential: Residence                                          27\n",
              "Residential: Business Operating Within a Private Residence      25\n",
              "Construction/Utility Sites: Utility Site                        22\n",
              "Residential: Farm                                               18\n",
              "Government Sites: Prison/Correction Facility                    14\n",
              "Residential: Public Storage Facility                             9\n",
              "Government Sites: Airport                                        7\n",
              "Exhibition Sites: Exhibition Site or Convention Center           5\n",
              "Piers, Wharfs, CFS: Pier or Wharf                                3\n",
              "Government Sites: Mine                                           3\n",
              "Government Sites: Natural Gas or Oil Field                       3\n",
              "Residential: Place of Worship                                    2\n",
              "Residential: Apartment                                           1\n",
              "Piers, Wharfs, CFS: Container Freight Station                    1\n",
              "Name: customer_location_type, dtype: int64"
            ]
          },
          "metadata": {
            "tags": []
          },
          "execution_count": 31
        }
      ]
    },
    {
      "cell_type": "code",
      "metadata": {
        "colab": {
          "base_uri": "https://localhost:8080/"
        },
        "id": "h6VFsEIg073H",
        "outputId": "c5e6a9b6-53b8-4171-8094-48aba8b501b3"
      },
      "source": [
        "X_train['FREEZABLE_FLAG'].value_counts()"
      ],
      "execution_count": null,
      "outputs": [
        {
          "output_type": "execute_result",
          "data": {
            "text/plain": [
              "False    10925\n",
              "True        55\n",
              "Name: FREEZABLE_FLAG, dtype: int64"
            ]
          },
          "metadata": {
            "tags": []
          },
          "execution_count": 32
        }
      ]
    },
    {
      "cell_type": "code",
      "metadata": {
        "colab": {
          "base_uri": "https://localhost:8080/"
        },
        "id": "HJnDOSuF1CRK",
        "outputId": "97cfe68f-cb3e-47b7-8aba-f0d2351bd8e4"
      },
      "source": [
        "X_train['HAZMAT_FLAG'].value_counts()"
      ],
      "execution_count": null,
      "outputs": [
        {
          "output_type": "execute_result",
          "data": {
            "text/plain": [
              "False    10495\n",
              "True       485\n",
              "Name: HAZMAT_FLAG, dtype: int64"
            ]
          },
          "metadata": {
            "tags": []
          },
          "execution_count": 33
        }
      ]
    },
    {
      "cell_type": "code",
      "metadata": {
        "id": "HSWWRwunzEhy",
        "colab": {
          "base_uri": "https://localhost:8080/"
        },
        "outputId": "1e4168da-2d9a-437b-f370-dbf2c4c00bb4"
      },
      "source": [
        "num_cols = X_train.select_dtypes(include=['int64', 'float64']).columns\n",
        "print(num_cols)\n",
        "print(len(num_cols))"
      ],
      "execution_count": null,
      "outputs": [
        {
          "output_type": "stream",
          "text": [
            "Index(['DL', 'DP', 'HE', 'HK', 'HL', 'PU', 'SE', 'SL', 'WEIGHT',\n",
            "       'MOTORIZED_PIECES_COUNT', 'TOTAL_VOLUME_CUBIC_FOOT', 'NODE_VISIT_CNT'],\n",
            "      dtype='object')\n",
            "12\n"
          ],
          "name": "stdout"
        }
      ]
    },
    {
      "cell_type": "code",
      "metadata": {
        "id": "Q-SVuG4WzG0u",
        "colab": {
          "base_uri": "https://localhost:8080/"
        },
        "outputId": "4ad65ff9-c861-4f77-f6d6-21edc74bda76"
      },
      "source": [
        "from sklearn.preprocessing import MinMaxScaler\n",
        "\n",
        "scaler = MinMaxScaler()\n",
        "\n",
        "for col in num_cols:\n",
        "    X_train[col] = scaler.fit_transform(X_train[col].values.reshape(-1,1))"
      ],
      "execution_count": null,
      "outputs": [
        {
          "output_type": "stream",
          "text": [
            "/usr/local/lib/python3.7/dist-packages/ipykernel_launcher.py:6: SettingWithCopyWarning: \n",
            "A value is trying to be set on a copy of a slice from a DataFrame.\n",
            "Try using .loc[row_indexer,col_indexer] = value instead\n",
            "\n",
            "See the caveats in the documentation: https://pandas.pydata.org/pandas-docs/stable/user_guide/indexing.html#returning-a-view-versus-a-copy\n",
            "  \n",
            "/usr/local/lib/python3.7/dist-packages/ipykernel_launcher.py:6: SettingWithCopyWarning: \n",
            "A value is trying to be set on a copy of a slice from a DataFrame.\n",
            "Try using .loc[row_indexer,col_indexer] = value instead\n",
            "\n",
            "See the caveats in the documentation: https://pandas.pydata.org/pandas-docs/stable/user_guide/indexing.html#returning-a-view-versus-a-copy\n",
            "  \n",
            "/usr/local/lib/python3.7/dist-packages/ipykernel_launcher.py:6: SettingWithCopyWarning: \n",
            "A value is trying to be set on a copy of a slice from a DataFrame.\n",
            "Try using .loc[row_indexer,col_indexer] = value instead\n",
            "\n",
            "See the caveats in the documentation: https://pandas.pydata.org/pandas-docs/stable/user_guide/indexing.html#returning-a-view-versus-a-copy\n",
            "  \n",
            "/usr/local/lib/python3.7/dist-packages/ipykernel_launcher.py:6: SettingWithCopyWarning: \n",
            "A value is trying to be set on a copy of a slice from a DataFrame.\n",
            "Try using .loc[row_indexer,col_indexer] = value instead\n",
            "\n",
            "See the caveats in the documentation: https://pandas.pydata.org/pandas-docs/stable/user_guide/indexing.html#returning-a-view-versus-a-copy\n",
            "  \n",
            "/usr/local/lib/python3.7/dist-packages/ipykernel_launcher.py:6: SettingWithCopyWarning: \n",
            "A value is trying to be set on a copy of a slice from a DataFrame.\n",
            "Try using .loc[row_indexer,col_indexer] = value instead\n",
            "\n",
            "See the caveats in the documentation: https://pandas.pydata.org/pandas-docs/stable/user_guide/indexing.html#returning-a-view-versus-a-copy\n",
            "  \n",
            "/usr/local/lib/python3.7/dist-packages/ipykernel_launcher.py:6: SettingWithCopyWarning: \n",
            "A value is trying to be set on a copy of a slice from a DataFrame.\n",
            "Try using .loc[row_indexer,col_indexer] = value instead\n",
            "\n",
            "See the caveats in the documentation: https://pandas.pydata.org/pandas-docs/stable/user_guide/indexing.html#returning-a-view-versus-a-copy\n",
            "  \n",
            "/usr/local/lib/python3.7/dist-packages/ipykernel_launcher.py:6: SettingWithCopyWarning: \n",
            "A value is trying to be set on a copy of a slice from a DataFrame.\n",
            "Try using .loc[row_indexer,col_indexer] = value instead\n",
            "\n",
            "See the caveats in the documentation: https://pandas.pydata.org/pandas-docs/stable/user_guide/indexing.html#returning-a-view-versus-a-copy\n",
            "  \n",
            "/usr/local/lib/python3.7/dist-packages/ipykernel_launcher.py:6: SettingWithCopyWarning: \n",
            "A value is trying to be set on a copy of a slice from a DataFrame.\n",
            "Try using .loc[row_indexer,col_indexer] = value instead\n",
            "\n",
            "See the caveats in the documentation: https://pandas.pydata.org/pandas-docs/stable/user_guide/indexing.html#returning-a-view-versus-a-copy\n",
            "  \n",
            "/usr/local/lib/python3.7/dist-packages/ipykernel_launcher.py:6: SettingWithCopyWarning: \n",
            "A value is trying to be set on a copy of a slice from a DataFrame.\n",
            "Try using .loc[row_indexer,col_indexer] = value instead\n",
            "\n",
            "See the caveats in the documentation: https://pandas.pydata.org/pandas-docs/stable/user_guide/indexing.html#returning-a-view-versus-a-copy\n",
            "  \n",
            "/usr/local/lib/python3.7/dist-packages/ipykernel_launcher.py:6: SettingWithCopyWarning: \n",
            "A value is trying to be set on a copy of a slice from a DataFrame.\n",
            "Try using .loc[row_indexer,col_indexer] = value instead\n",
            "\n",
            "See the caveats in the documentation: https://pandas.pydata.org/pandas-docs/stable/user_guide/indexing.html#returning-a-view-versus-a-copy\n",
            "  \n",
            "/usr/local/lib/python3.7/dist-packages/ipykernel_launcher.py:6: SettingWithCopyWarning: \n",
            "A value is trying to be set on a copy of a slice from a DataFrame.\n",
            "Try using .loc[row_indexer,col_indexer] = value instead\n",
            "\n",
            "See the caveats in the documentation: https://pandas.pydata.org/pandas-docs/stable/user_guide/indexing.html#returning-a-view-versus-a-copy\n",
            "  \n",
            "/usr/local/lib/python3.7/dist-packages/ipykernel_launcher.py:6: SettingWithCopyWarning: \n",
            "A value is trying to be set on a copy of a slice from a DataFrame.\n",
            "Try using .loc[row_indexer,col_indexer] = value instead\n",
            "\n",
            "See the caveats in the documentation: https://pandas.pydata.org/pandas-docs/stable/user_guide/indexing.html#returning-a-view-versus-a-copy\n",
            "  \n"
          ],
          "name": "stderr"
        }
      ]
    },
    {
      "cell_type": "code",
      "metadata": {
        "id": "GwU4nzQVzGxS",
        "colab": {
          "base_uri": "https://localhost:8080/",
          "height": 131
        },
        "outputId": "cc928278-0c6d-46cb-eb80-f5acfbe636b7"
      },
      "source": [
        "X_train.head(2)"
      ],
      "execution_count": null,
      "outputs": [
        {
          "output_type": "execute_result",
          "data": {
            "text/html": [
              "<div>\n",
              "<style scoped>\n",
              "    .dataframe tbody tr th:only-of-type {\n",
              "        vertical-align: middle;\n",
              "    }\n",
              "\n",
              "    .dataframe tbody tr th {\n",
              "        vertical-align: top;\n",
              "    }\n",
              "\n",
              "    .dataframe thead th {\n",
              "        text-align: right;\n",
              "    }\n",
              "</style>\n",
              "<table border=\"1\" class=\"dataframe\">\n",
              "  <thead>\n",
              "    <tr style=\"text-align: right;\">\n",
              "      <th></th>\n",
              "      <th>DL</th>\n",
              "      <th>DP</th>\n",
              "      <th>HE</th>\n",
              "      <th>HK</th>\n",
              "      <th>HL</th>\n",
              "      <th>PU</th>\n",
              "      <th>SE</th>\n",
              "      <th>SL</th>\n",
              "      <th>WEIGHT</th>\n",
              "      <th>MOTORIZED_PIECES_COUNT</th>\n",
              "      <th>TOTAL_VOLUME_CUBIC_FOOT</th>\n",
              "      <th>HAZMAT_FLAG</th>\n",
              "      <th>FREEZABLE_FLAG</th>\n",
              "      <th>NODE_VISIT_CNT</th>\n",
              "      <th>dock_availability_indicator</th>\n",
              "      <th>forklift_availability_indicator</th>\n",
              "      <th>customer_location_type</th>\n",
              "    </tr>\n",
              "  </thead>\n",
              "  <tbody>\n",
              "    <tr>\n",
              "      <th>6884</th>\n",
              "      <td>0.095238</td>\n",
              "      <td>0.0</td>\n",
              "      <td>0.0</td>\n",
              "      <td>0.0</td>\n",
              "      <td>0.0</td>\n",
              "      <td>0.0</td>\n",
              "      <td>0.0</td>\n",
              "      <td>0.0</td>\n",
              "      <td>0.048131</td>\n",
              "      <td>0.016598</td>\n",
              "      <td>0.006901</td>\n",
              "      <td>False</td>\n",
              "      <td>False</td>\n",
              "      <td>0.067716</td>\n",
              "      <td>Y</td>\n",
              "      <td>Y</td>\n",
              "      <td>Distribution Center</td>\n",
              "    </tr>\n",
              "    <tr>\n",
              "      <th>6857</th>\n",
              "      <td>0.047619</td>\n",
              "      <td>0.0</td>\n",
              "      <td>0.0</td>\n",
              "      <td>0.0</td>\n",
              "      <td>0.0</td>\n",
              "      <td>0.0</td>\n",
              "      <td>0.0</td>\n",
              "      <td>0.0</td>\n",
              "      <td>0.017116</td>\n",
              "      <td>0.004149</td>\n",
              "      <td>0.004133</td>\n",
              "      <td>False</td>\n",
              "      <td>False</td>\n",
              "      <td>0.001485</td>\n",
              "      <td>Y</td>\n",
              "      <td>Y</td>\n",
              "      <td>Business/Commercial</td>\n",
              "    </tr>\n",
              "  </tbody>\n",
              "</table>\n",
              "</div>"
            ],
            "text/plain": [
              "            DL   DP  ...  forklift_availability_indicator  customer_location_type\n",
              "6884  0.095238  0.0  ...                                Y     Distribution Center\n",
              "6857  0.047619  0.0  ...                                Y     Business/Commercial\n",
              "\n",
              "[2 rows x 17 columns]"
            ]
          },
          "metadata": {
            "tags": []
          },
          "execution_count": 36
        }
      ]
    },
    {
      "cell_type": "code",
      "metadata": {
        "id": "-zXqB5x5zJWC",
        "colab": {
          "base_uri": "https://localhost:8080/"
        },
        "outputId": "95711d7b-beec-4245-a6d8-f5ffe35780af"
      },
      "source": [
        "cat_cols = X_train.select_dtypes(include=['object', 'bool']).columns\n",
        "print(cat_cols)\n",
        "print(len(cat_cols))"
      ],
      "execution_count": null,
      "outputs": [
        {
          "output_type": "stream",
          "text": [
            "Index(['HAZMAT_FLAG', 'FREEZABLE_FLAG', 'dock_availability_indicator',\n",
            "       'forklift_availability_indicator', 'customer_location_type'],\n",
            "      dtype='object')\n",
            "5\n"
          ],
          "name": "stdout"
        }
      ]
    },
    {
      "cell_type": "code",
      "metadata": {
        "id": "KkeDry8_zJSh",
        "colab": {
          "base_uri": "https://localhost:8080/"
        },
        "outputId": "edc841e1-fc06-4f97-e6ce-b0f8391a9ad7"
      },
      "source": [
        "from sklearn.compose import ColumnTransformer\n",
        "from sklearn.preprocessing import OneHotEncoder\n",
        "from sklearn.preprocessing import LabelEncoder\n",
        "  \n",
        "# label encoding the data\n",
        "le = LabelEncoder()\n",
        "\n",
        "for col in cat_cols:\n",
        "    X_train[col] = le.fit_transform(X_train[col])"
      ],
      "execution_count": null,
      "outputs": [
        {
          "output_type": "stream",
          "text": [
            "/usr/local/lib/python3.7/dist-packages/ipykernel_launcher.py:9: SettingWithCopyWarning: \n",
            "A value is trying to be set on a copy of a slice from a DataFrame.\n",
            "Try using .loc[row_indexer,col_indexer] = value instead\n",
            "\n",
            "See the caveats in the documentation: https://pandas.pydata.org/pandas-docs/stable/user_guide/indexing.html#returning-a-view-versus-a-copy\n",
            "  if __name__ == '__main__':\n"
          ],
          "name": "stderr"
        }
      ]
    },
    {
      "cell_type": "code",
      "metadata": {
        "id": "xHOKVur7zO0T",
        "colab": {
          "base_uri": "https://localhost:8080/"
        },
        "outputId": "a231af59-92db-4deb-9d8e-448ef37a3f57"
      },
      "source": [
        "X_train.info()"
      ],
      "execution_count": null,
      "outputs": [
        {
          "output_type": "stream",
          "text": [
            "<class 'pandas.core.frame.DataFrame'>\n",
            "Int64Index: 10980 entries, 6884 to 7270\n",
            "Data columns (total 17 columns):\n",
            " #   Column                           Non-Null Count  Dtype  \n",
            "---  ------                           --------------  -----  \n",
            " 0   DL                               10980 non-null  float64\n",
            " 1   DP                               10980 non-null  float64\n",
            " 2   HE                               10980 non-null  float64\n",
            " 3   HK                               10980 non-null  float64\n",
            " 4   HL                               10980 non-null  float64\n",
            " 5   PU                               10980 non-null  float64\n",
            " 6   SE                               10980 non-null  float64\n",
            " 7   SL                               10980 non-null  float64\n",
            " 8   WEIGHT                           10980 non-null  float64\n",
            " 9   MOTORIZED_PIECES_COUNT           10980 non-null  float64\n",
            " 10  TOTAL_VOLUME_CUBIC_FOOT          10980 non-null  float64\n",
            " 11  HAZMAT_FLAG                      10980 non-null  int64  \n",
            " 12  FREEZABLE_FLAG                   10980 non-null  int64  \n",
            " 13  NODE_VISIT_CNT                   10980 non-null  float64\n",
            " 14  dock_availability_indicator      10980 non-null  int64  \n",
            " 15  forklift_availability_indicator  10980 non-null  int64  \n",
            " 16  customer_location_type           10980 non-null  int64  \n",
            "dtypes: float64(12), int64(5)\n",
            "memory usage: 1.5 MB\n"
          ],
          "name": "stdout"
        }
      ]
    },
    {
      "cell_type": "code",
      "metadata": {
        "id": "4ifYrcaozRBU",
        "colab": {
          "base_uri": "https://localhost:8080/",
          "height": 224
        },
        "outputId": "99a1a9c9-46af-4461-f1af-5869978dfbf0"
      },
      "source": [
        "X_train.head()"
      ],
      "execution_count": null,
      "outputs": [
        {
          "output_type": "execute_result",
          "data": {
            "text/html": [
              "<div>\n",
              "<style scoped>\n",
              "    .dataframe tbody tr th:only-of-type {\n",
              "        vertical-align: middle;\n",
              "    }\n",
              "\n",
              "    .dataframe tbody tr th {\n",
              "        vertical-align: top;\n",
              "    }\n",
              "\n",
              "    .dataframe thead th {\n",
              "        text-align: right;\n",
              "    }\n",
              "</style>\n",
              "<table border=\"1\" class=\"dataframe\">\n",
              "  <thead>\n",
              "    <tr style=\"text-align: right;\">\n",
              "      <th></th>\n",
              "      <th>DL</th>\n",
              "      <th>DP</th>\n",
              "      <th>HE</th>\n",
              "      <th>HK</th>\n",
              "      <th>HL</th>\n",
              "      <th>PU</th>\n",
              "      <th>SE</th>\n",
              "      <th>SL</th>\n",
              "      <th>WEIGHT</th>\n",
              "      <th>MOTORIZED_PIECES_COUNT</th>\n",
              "      <th>TOTAL_VOLUME_CUBIC_FOOT</th>\n",
              "      <th>HAZMAT_FLAG</th>\n",
              "      <th>FREEZABLE_FLAG</th>\n",
              "      <th>NODE_VISIT_CNT</th>\n",
              "      <th>dock_availability_indicator</th>\n",
              "      <th>forklift_availability_indicator</th>\n",
              "      <th>customer_location_type</th>\n",
              "    </tr>\n",
              "  </thead>\n",
              "  <tbody>\n",
              "    <tr>\n",
              "      <th>6884</th>\n",
              "      <td>0.095238</td>\n",
              "      <td>0.0</td>\n",
              "      <td>0.0</td>\n",
              "      <td>0.0</td>\n",
              "      <td>0.0</td>\n",
              "      <td>0.0</td>\n",
              "      <td>0.0</td>\n",
              "      <td>0.0</td>\n",
              "      <td>0.048131</td>\n",
              "      <td>0.016598</td>\n",
              "      <td>0.006901</td>\n",
              "      <td>0</td>\n",
              "      <td>0</td>\n",
              "      <td>0.067716</td>\n",
              "      <td>1</td>\n",
              "      <td>1</td>\n",
              "      <td>3</td>\n",
              "    </tr>\n",
              "    <tr>\n",
              "      <th>6857</th>\n",
              "      <td>0.047619</td>\n",
              "      <td>0.0</td>\n",
              "      <td>0.0</td>\n",
              "      <td>0.0</td>\n",
              "      <td>0.0</td>\n",
              "      <td>0.0</td>\n",
              "      <td>0.0</td>\n",
              "      <td>0.0</td>\n",
              "      <td>0.017116</td>\n",
              "      <td>0.004149</td>\n",
              "      <td>0.004133</td>\n",
              "      <td>0</td>\n",
              "      <td>0</td>\n",
              "      <td>0.001485</td>\n",
              "      <td>1</td>\n",
              "      <td>1</td>\n",
              "      <td>0</td>\n",
              "    </tr>\n",
              "    <tr>\n",
              "      <th>9057</th>\n",
              "      <td>0.047619</td>\n",
              "      <td>0.0</td>\n",
              "      <td>0.0</td>\n",
              "      <td>0.0</td>\n",
              "      <td>0.0</td>\n",
              "      <td>0.0</td>\n",
              "      <td>0.0</td>\n",
              "      <td>0.0</td>\n",
              "      <td>0.026625</td>\n",
              "      <td>0.008299</td>\n",
              "      <td>0.013249</td>\n",
              "      <td>0</td>\n",
              "      <td>0</td>\n",
              "      <td>0.010395</td>\n",
              "      <td>1</td>\n",
              "      <td>1</td>\n",
              "      <td>0</td>\n",
              "    </tr>\n",
              "    <tr>\n",
              "      <th>866</th>\n",
              "      <td>0.047619</td>\n",
              "      <td>0.0</td>\n",
              "      <td>0.0</td>\n",
              "      <td>0.0</td>\n",
              "      <td>0.0</td>\n",
              "      <td>0.0</td>\n",
              "      <td>0.0</td>\n",
              "      <td>0.0</td>\n",
              "      <td>0.049810</td>\n",
              "      <td>0.004149</td>\n",
              "      <td>0.012709</td>\n",
              "      <td>0</td>\n",
              "      <td>0</td>\n",
              "      <td>0.035937</td>\n",
              "      <td>1</td>\n",
              "      <td>1</td>\n",
              "      <td>0</td>\n",
              "    </tr>\n",
              "    <tr>\n",
              "      <th>6903</th>\n",
              "      <td>0.047619</td>\n",
              "      <td>0.0</td>\n",
              "      <td>0.0</td>\n",
              "      <td>0.0</td>\n",
              "      <td>0.0</td>\n",
              "      <td>0.0</td>\n",
              "      <td>0.0</td>\n",
              "      <td>0.0</td>\n",
              "      <td>0.012665</td>\n",
              "      <td>0.004149</td>\n",
              "      <td>0.012414</td>\n",
              "      <td>0</td>\n",
              "      <td>0</td>\n",
              "      <td>0.008910</td>\n",
              "      <td>1</td>\n",
              "      <td>1</td>\n",
              "      <td>0</td>\n",
              "    </tr>\n",
              "  </tbody>\n",
              "</table>\n",
              "</div>"
            ],
            "text/plain": [
              "            DL   DP  ...  forklift_availability_indicator  customer_location_type\n",
              "6884  0.095238  0.0  ...                                1                       3\n",
              "6857  0.047619  0.0  ...                                1                       0\n",
              "9057  0.047619  0.0  ...                                1                       0\n",
              "866   0.047619  0.0  ...                                1                       0\n",
              "6903  0.047619  0.0  ...                                1                       0\n",
              "\n",
              "[5 rows x 17 columns]"
            ]
          },
          "metadata": {
            "tags": []
          },
          "execution_count": 40
        }
      ]
    },
    {
      "cell_type": "code",
      "metadata": {
        "colab": {
          "base_uri": "https://localhost:8080/"
        },
        "id": "Q85c87Oo9p2G",
        "outputId": "0aa901fc-5a3f-4d25-ff98-00505b7fca16"
      },
      "source": [
        "X_test['dock_availability_indicator'].value_counts()"
      ],
      "execution_count": null,
      "outputs": [
        {
          "output_type": "execute_result",
          "data": {
            "text/plain": [
              "Y    2012\n",
              "N     708\n",
              "U      26\n",
              "Name: dock_availability_indicator, dtype: int64"
            ]
          },
          "metadata": {
            "tags": []
          },
          "execution_count": 49
        }
      ]
    },
    {
      "cell_type": "code",
      "metadata": {
        "colab": {
          "base_uri": "https://localhost:8080/"
        },
        "id": "S2QWKw2j9p2K",
        "outputId": "65c840f6-abbd-44e1-b18b-3ae09e260482"
      },
      "source": [
        "X_test['dock_availability_indicator'].value_counts()"
      ],
      "execution_count": null,
      "outputs": [
        {
          "output_type": "execute_result",
          "data": {
            "text/plain": [
              "Y    2012\n",
              "N     708\n",
              "U      26\n",
              "Name: dock_availability_indicator, dtype: int64"
            ]
          },
          "metadata": {
            "tags": []
          },
          "execution_count": 50
        }
      ]
    },
    {
      "cell_type": "code",
      "metadata": {
        "colab": {
          "base_uri": "https://localhost:8080/"
        },
        "id": "yl9TptL69p2K",
        "outputId": "feabcab2-49fd-46b0-dd84-c1db0a83e026"
      },
      "source": [
        "X_test['forklift_availability_indicator'].value_counts()"
      ],
      "execution_count": null,
      "outputs": [
        {
          "output_type": "execute_result",
          "data": {
            "text/plain": [
              "Y    2442\n",
              "N     303\n",
              "U       1\n",
              "Name: forklift_availability_indicator, dtype: int64"
            ]
          },
          "metadata": {
            "tags": []
          },
          "execution_count": 51
        }
      ]
    },
    {
      "cell_type": "code",
      "metadata": {
        "colab": {
          "base_uri": "https://localhost:8080/"
        },
        "id": "ETbhe4ey9p2M",
        "outputId": "19ee008a-2d4d-4a89-fee6-3350f0cb5138"
      },
      "source": [
        "X_test['forklift_availability_indicator'].value_counts()"
      ],
      "execution_count": null,
      "outputs": [
        {
          "output_type": "execute_result",
          "data": {
            "text/plain": [
              "Y    2442\n",
              "N     303\n",
              "U       1\n",
              "Name: forklift_availability_indicator, dtype: int64"
            ]
          },
          "metadata": {
            "tags": []
          },
          "execution_count": 52
        }
      ]
    },
    {
      "cell_type": "code",
      "metadata": {
        "colab": {
          "base_uri": "https://localhost:8080/"
        },
        "id": "kFdcK5G19p2N",
        "outputId": "67ad546a-eab1-4e58-f543-6ac426ad52e9"
      },
      "source": [
        "X_test['customer_location_type'].value_counts()"
      ],
      "execution_count": null,
      "outputs": [
        {
          "output_type": "execute_result",
          "data": {
            "text/plain": [
              "Business/Commercial                                           2305\n",
              "Distribution Center                                            253\n",
              "Shopping Mall/Strip Mall                                        40\n",
              "Grocery Warehouse                                               28\n",
              "U                                                               26\n",
              "Residential: Business Operating Within a Private Residence      13\n",
              "Construction/Utility Sites: Construction Site                   10\n",
              "Government Sites: Military                                       9\n",
              "University/College                                               9\n",
              "Residential: Public Storage Facility                             9\n",
              "Residential: Farm                                                9\n",
              "Residential: Residence                                           8\n",
              "Government Sites: Prison/Correction Facility                     8\n",
              "Construction/Utility Sites: Utility Site                         7\n",
              "Government Sites: Post Office                                    4\n",
              "Government Sites: Other Government Sites                         2\n",
              "Residential: School (K-12), Pre-School, Day Care                 2\n",
              "Government Sites: Airport                                        1\n",
              "Government Sites: Mine                                           1\n",
              "Piers, Wharfs, CFS: Pier or Wharf                                1\n",
              "Piers, Wharfs, CFS: Container Freight Station                    1\n",
              "Name: customer_location_type, dtype: int64"
            ]
          },
          "metadata": {
            "tags": []
          },
          "execution_count": 53
        }
      ]
    },
    {
      "cell_type": "code",
      "metadata": {
        "colab": {
          "base_uri": "https://localhost:8080/"
        },
        "id": "9fkgZv_W9p2O",
        "outputId": "5b435821-ae03-4eba-bc9d-39e4d6c5f480"
      },
      "source": [
        "X_test['customer_location_type'].value_counts()"
      ],
      "execution_count": null,
      "outputs": [
        {
          "output_type": "execute_result",
          "data": {
            "text/plain": [
              "Business/Commercial                                           2305\n",
              "Distribution Center                                            253\n",
              "Shopping Mall/Strip Mall                                        40\n",
              "Grocery Warehouse                                               28\n",
              "U                                                               26\n",
              "Residential: Business Operating Within a Private Residence      13\n",
              "Construction/Utility Sites: Construction Site                   10\n",
              "Government Sites: Military                                       9\n",
              "University/College                                               9\n",
              "Residential: Public Storage Facility                             9\n",
              "Residential: Farm                                                9\n",
              "Residential: Residence                                           8\n",
              "Government Sites: Prison/Correction Facility                     8\n",
              "Construction/Utility Sites: Utility Site                         7\n",
              "Government Sites: Post Office                                    4\n",
              "Government Sites: Other Government Sites                         2\n",
              "Residential: School (K-12), Pre-School, Day Care                 2\n",
              "Government Sites: Airport                                        1\n",
              "Government Sites: Mine                                           1\n",
              "Piers, Wharfs, CFS: Pier or Wharf                                1\n",
              "Piers, Wharfs, CFS: Container Freight Station                    1\n",
              "Name: customer_location_type, dtype: int64"
            ]
          },
          "metadata": {
            "tags": []
          },
          "execution_count": 54
        }
      ]
    },
    {
      "cell_type": "code",
      "metadata": {
        "colab": {
          "base_uri": "https://localhost:8080/"
        },
        "id": "CNm4tZ4U9p2P",
        "outputId": "71627e07-6dc2-4123-b423-c87cd0aa020e"
      },
      "source": [
        "X_test['FREEZABLE_FLAG'].value_counts()"
      ],
      "execution_count": null,
      "outputs": [
        {
          "output_type": "execute_result",
          "data": {
            "text/plain": [
              "False    2722\n",
              "True       24\n",
              "Name: FREEZABLE_FLAG, dtype: int64"
            ]
          },
          "metadata": {
            "tags": []
          },
          "execution_count": 55
        }
      ]
    },
    {
      "cell_type": "code",
      "metadata": {
        "colab": {
          "base_uri": "https://localhost:8080/"
        },
        "id": "lD7QipSk9p2Q",
        "outputId": "5778cb19-dcb9-4cc7-8508-34a42b49c459"
      },
      "source": [
        "X_test['HAZMAT_FLAG'].value_counts()"
      ],
      "execution_count": null,
      "outputs": [
        {
          "output_type": "execute_result",
          "data": {
            "text/plain": [
              "False    2632\n",
              "True      114\n",
              "Name: HAZMAT_FLAG, dtype: int64"
            ]
          },
          "metadata": {
            "tags": []
          },
          "execution_count": 56
        }
      ]
    },
    {
      "cell_type": "code",
      "metadata": {
        "colab": {
          "base_uri": "https://localhost:8080/"
        },
        "id": "NdDD_OO_9p2R",
        "outputId": "89a9358f-aa99-48b2-deac-c66ee23b276e"
      },
      "source": [
        "num_cols = X_test.select_dtypes(include=['int64', 'float64']).columns\n",
        "print(num_cols)\n",
        "print(len(num_cols))"
      ],
      "execution_count": null,
      "outputs": [
        {
          "output_type": "stream",
          "text": [
            "Index(['DL', 'DP', 'HE', 'HK', 'HL', 'PU', 'SE', 'SL', 'WEIGHT',\n",
            "       'MOTORIZED_PIECES_COUNT', 'TOTAL_VOLUME_CUBIC_FOOT', 'NODE_VISIT_CNT'],\n",
            "      dtype='object')\n",
            "12\n"
          ],
          "name": "stdout"
        }
      ]
    },
    {
      "cell_type": "code",
      "metadata": {
        "colab": {
          "base_uri": "https://localhost:8080/"
        },
        "id": "df7p0fOE9p2S",
        "outputId": "1c5ce66c-7742-48e3-ba53-955bfeb8c627"
      },
      "source": [
        "from sklearn.preprocessing import MinMaxScaler\n",
        "\n",
        "scaler = MinMaxScaler()\n",
        "\n",
        "for col in num_cols:\n",
        "    X_test[col] = scaler.fit_transform(X_test[col].values.reshape(-1,1))"
      ],
      "execution_count": null,
      "outputs": [
        {
          "output_type": "stream",
          "text": [
            "/usr/local/lib/python3.7/dist-packages/ipykernel_launcher.py:6: SettingWithCopyWarning: \n",
            "A value is trying to be set on a copy of a slice from a DataFrame.\n",
            "Try using .loc[row_indexer,col_indexer] = value instead\n",
            "\n",
            "See the caveats in the documentation: https://pandas.pydata.org/pandas-docs/stable/user_guide/indexing.html#returning-a-view-versus-a-copy\n",
            "  \n",
            "/usr/local/lib/python3.7/dist-packages/ipykernel_launcher.py:6: SettingWithCopyWarning: \n",
            "A value is trying to be set on a copy of a slice from a DataFrame.\n",
            "Try using .loc[row_indexer,col_indexer] = value instead\n",
            "\n",
            "See the caveats in the documentation: https://pandas.pydata.org/pandas-docs/stable/user_guide/indexing.html#returning-a-view-versus-a-copy\n",
            "  \n",
            "/usr/local/lib/python3.7/dist-packages/ipykernel_launcher.py:6: SettingWithCopyWarning: \n",
            "A value is trying to be set on a copy of a slice from a DataFrame.\n",
            "Try using .loc[row_indexer,col_indexer] = value instead\n",
            "\n",
            "See the caveats in the documentation: https://pandas.pydata.org/pandas-docs/stable/user_guide/indexing.html#returning-a-view-versus-a-copy\n",
            "  \n",
            "/usr/local/lib/python3.7/dist-packages/ipykernel_launcher.py:6: SettingWithCopyWarning: \n",
            "A value is trying to be set on a copy of a slice from a DataFrame.\n",
            "Try using .loc[row_indexer,col_indexer] = value instead\n",
            "\n",
            "See the caveats in the documentation: https://pandas.pydata.org/pandas-docs/stable/user_guide/indexing.html#returning-a-view-versus-a-copy\n",
            "  \n",
            "/usr/local/lib/python3.7/dist-packages/ipykernel_launcher.py:6: SettingWithCopyWarning: \n",
            "A value is trying to be set on a copy of a slice from a DataFrame.\n",
            "Try using .loc[row_indexer,col_indexer] = value instead\n",
            "\n",
            "See the caveats in the documentation: https://pandas.pydata.org/pandas-docs/stable/user_guide/indexing.html#returning-a-view-versus-a-copy\n",
            "  \n",
            "/usr/local/lib/python3.7/dist-packages/ipykernel_launcher.py:6: SettingWithCopyWarning: \n",
            "A value is trying to be set on a copy of a slice from a DataFrame.\n",
            "Try using .loc[row_indexer,col_indexer] = value instead\n",
            "\n",
            "See the caveats in the documentation: https://pandas.pydata.org/pandas-docs/stable/user_guide/indexing.html#returning-a-view-versus-a-copy\n",
            "  \n",
            "/usr/local/lib/python3.7/dist-packages/ipykernel_launcher.py:6: SettingWithCopyWarning: \n",
            "A value is trying to be set on a copy of a slice from a DataFrame.\n",
            "Try using .loc[row_indexer,col_indexer] = value instead\n",
            "\n",
            "See the caveats in the documentation: https://pandas.pydata.org/pandas-docs/stable/user_guide/indexing.html#returning-a-view-versus-a-copy\n",
            "  \n",
            "/usr/local/lib/python3.7/dist-packages/ipykernel_launcher.py:6: SettingWithCopyWarning: \n",
            "A value is trying to be set on a copy of a slice from a DataFrame.\n",
            "Try using .loc[row_indexer,col_indexer] = value instead\n",
            "\n",
            "See the caveats in the documentation: https://pandas.pydata.org/pandas-docs/stable/user_guide/indexing.html#returning-a-view-versus-a-copy\n",
            "  \n",
            "/usr/local/lib/python3.7/dist-packages/ipykernel_launcher.py:6: SettingWithCopyWarning: \n",
            "A value is trying to be set on a copy of a slice from a DataFrame.\n",
            "Try using .loc[row_indexer,col_indexer] = value instead\n",
            "\n",
            "See the caveats in the documentation: https://pandas.pydata.org/pandas-docs/stable/user_guide/indexing.html#returning-a-view-versus-a-copy\n",
            "  \n",
            "/usr/local/lib/python3.7/dist-packages/ipykernel_launcher.py:6: SettingWithCopyWarning: \n",
            "A value is trying to be set on a copy of a slice from a DataFrame.\n",
            "Try using .loc[row_indexer,col_indexer] = value instead\n",
            "\n",
            "See the caveats in the documentation: https://pandas.pydata.org/pandas-docs/stable/user_guide/indexing.html#returning-a-view-versus-a-copy\n",
            "  \n",
            "/usr/local/lib/python3.7/dist-packages/ipykernel_launcher.py:6: SettingWithCopyWarning: \n",
            "A value is trying to be set on a copy of a slice from a DataFrame.\n",
            "Try using .loc[row_indexer,col_indexer] = value instead\n",
            "\n",
            "See the caveats in the documentation: https://pandas.pydata.org/pandas-docs/stable/user_guide/indexing.html#returning-a-view-versus-a-copy\n",
            "  \n",
            "/usr/local/lib/python3.7/dist-packages/ipykernel_launcher.py:6: SettingWithCopyWarning: \n",
            "A value is trying to be set on a copy of a slice from a DataFrame.\n",
            "Try using .loc[row_indexer,col_indexer] = value instead\n",
            "\n",
            "See the caveats in the documentation: https://pandas.pydata.org/pandas-docs/stable/user_guide/indexing.html#returning-a-view-versus-a-copy\n",
            "  \n"
          ],
          "name": "stderr"
        }
      ]
    },
    {
      "cell_type": "code",
      "metadata": {
        "colab": {
          "base_uri": "https://localhost:8080/",
          "height": 131
        },
        "id": "s6Cp6JWu9p2T",
        "outputId": "23cf3a21-7f4b-4efa-e77c-a004998d319e"
      },
      "source": [
        "X_test.head(2)"
      ],
      "execution_count": null,
      "outputs": [
        {
          "output_type": "execute_result",
          "data": {
            "text/html": [
              "<div>\n",
              "<style scoped>\n",
              "    .dataframe tbody tr th:only-of-type {\n",
              "        vertical-align: middle;\n",
              "    }\n",
              "\n",
              "    .dataframe tbody tr th {\n",
              "        vertical-align: top;\n",
              "    }\n",
              "\n",
              "    .dataframe thead th {\n",
              "        text-align: right;\n",
              "    }\n",
              "</style>\n",
              "<table border=\"1\" class=\"dataframe\">\n",
              "  <thead>\n",
              "    <tr style=\"text-align: right;\">\n",
              "      <th></th>\n",
              "      <th>DL</th>\n",
              "      <th>DP</th>\n",
              "      <th>HE</th>\n",
              "      <th>HK</th>\n",
              "      <th>HL</th>\n",
              "      <th>PU</th>\n",
              "      <th>SE</th>\n",
              "      <th>SL</th>\n",
              "      <th>WEIGHT</th>\n",
              "      <th>MOTORIZED_PIECES_COUNT</th>\n",
              "      <th>TOTAL_VOLUME_CUBIC_FOOT</th>\n",
              "      <th>HAZMAT_FLAG</th>\n",
              "      <th>FREEZABLE_FLAG</th>\n",
              "      <th>NODE_VISIT_CNT</th>\n",
              "      <th>dock_availability_indicator</th>\n",
              "      <th>forklift_availability_indicator</th>\n",
              "      <th>customer_location_type</th>\n",
              "    </tr>\n",
              "  </thead>\n",
              "  <tbody>\n",
              "    <tr>\n",
              "      <th>11044</th>\n",
              "      <td>0.0</td>\n",
              "      <td>0.0</td>\n",
              "      <td>0.0</td>\n",
              "      <td>0.0</td>\n",
              "      <td>0.0</td>\n",
              "      <td>0.058824</td>\n",
              "      <td>0.0</td>\n",
              "      <td>0.0</td>\n",
              "      <td>0.024033</td>\n",
              "      <td>0.004444</td>\n",
              "      <td>0.105295</td>\n",
              "      <td>False</td>\n",
              "      <td>False</td>\n",
              "      <td>0.007357</td>\n",
              "      <td>Y</td>\n",
              "      <td>Y</td>\n",
              "      <td>Business/Commercial</td>\n",
              "    </tr>\n",
              "    <tr>\n",
              "      <th>12092</th>\n",
              "      <td>0.0</td>\n",
              "      <td>0.0</td>\n",
              "      <td>0.0</td>\n",
              "      <td>0.0</td>\n",
              "      <td>0.0</td>\n",
              "      <td>0.235294</td>\n",
              "      <td>0.0</td>\n",
              "      <td>0.0</td>\n",
              "      <td>0.018673</td>\n",
              "      <td>0.017778</td>\n",
              "      <td>0.104629</td>\n",
              "      <td>False</td>\n",
              "      <td>False</td>\n",
              "      <td>0.037669</td>\n",
              "      <td>Y</td>\n",
              "      <td>Y</td>\n",
              "      <td>Distribution Center</td>\n",
              "    </tr>\n",
              "  </tbody>\n",
              "</table>\n",
              "</div>"
            ],
            "text/plain": [
              "        DL   DP  ...  forklift_availability_indicator  customer_location_type\n",
              "11044  0.0  0.0  ...                                Y     Business/Commercial\n",
              "12092  0.0  0.0  ...                                Y     Distribution Center\n",
              "\n",
              "[2 rows x 17 columns]"
            ]
          },
          "metadata": {
            "tags": []
          },
          "execution_count": 59
        }
      ]
    },
    {
      "cell_type": "code",
      "metadata": {
        "colab": {
          "base_uri": "https://localhost:8080/"
        },
        "id": "C9r5_dur9p2T",
        "outputId": "02099567-7fc4-48e5-cc76-c30a7aa6e20f"
      },
      "source": [
        "cat_cols = X_test.select_dtypes(include=['object', 'bool']).columns\n",
        "print(cat_cols)\n",
        "print(len(cat_cols))"
      ],
      "execution_count": null,
      "outputs": [
        {
          "output_type": "stream",
          "text": [
            "Index(['HAZMAT_FLAG', 'FREEZABLE_FLAG', 'dock_availability_indicator',\n",
            "       'forklift_availability_indicator', 'customer_location_type'],\n",
            "      dtype='object')\n",
            "5\n"
          ],
          "name": "stdout"
        }
      ]
    },
    {
      "cell_type": "code",
      "metadata": {
        "colab": {
          "base_uri": "https://localhost:8080/"
        },
        "id": "cguqyCVz9p2U",
        "outputId": "3488a3e8-32e1-41ec-cab2-e3890ced8e09"
      },
      "source": [
        "from sklearn.compose import ColumnTransformer\n",
        "from sklearn.preprocessing import OneHotEncoder\n",
        "from sklearn.preprocessing import LabelEncoder\n",
        "  \n",
        "# label encoding the data\n",
        "le = LabelEncoder()\n",
        "\n",
        "for col in cat_cols:\n",
        "    X_test[col] = le.fit_transform(X_test[col])"
      ],
      "execution_count": null,
      "outputs": [
        {
          "output_type": "stream",
          "text": [
            "/usr/local/lib/python3.7/dist-packages/ipykernel_launcher.py:9: SettingWithCopyWarning: \n",
            "A value is trying to be set on a copy of a slice from a DataFrame.\n",
            "Try using .loc[row_indexer,col_indexer] = value instead\n",
            "\n",
            "See the caveats in the documentation: https://pandas.pydata.org/pandas-docs/stable/user_guide/indexing.html#returning-a-view-versus-a-copy\n",
            "  if __name__ == '__main__':\n"
          ],
          "name": "stderr"
        }
      ]
    },
    {
      "cell_type": "code",
      "metadata": {
        "colab": {
          "base_uri": "https://localhost:8080/"
        },
        "id": "XYehO8OQ9p2U",
        "outputId": "9ea45184-cb40-4e8a-a204-5560b5608c6b"
      },
      "source": [
        "X_test.info()"
      ],
      "execution_count": null,
      "outputs": [
        {
          "output_type": "stream",
          "text": [
            "<class 'pandas.core.frame.DataFrame'>\n",
            "Int64Index: 2746 entries, 11044 to 8250\n",
            "Data columns (total 17 columns):\n",
            " #   Column                           Non-Null Count  Dtype  \n",
            "---  ------                           --------------  -----  \n",
            " 0   DL                               2746 non-null   float64\n",
            " 1   DP                               2746 non-null   float64\n",
            " 2   HE                               2746 non-null   float64\n",
            " 3   HK                               2746 non-null   float64\n",
            " 4   HL                               2746 non-null   float64\n",
            " 5   PU                               2746 non-null   float64\n",
            " 6   SE                               2746 non-null   float64\n",
            " 7   SL                               2746 non-null   float64\n",
            " 8   WEIGHT                           2746 non-null   float64\n",
            " 9   MOTORIZED_PIECES_COUNT           2746 non-null   float64\n",
            " 10  TOTAL_VOLUME_CUBIC_FOOT          2746 non-null   float64\n",
            " 11  HAZMAT_FLAG                      2746 non-null   int64  \n",
            " 12  FREEZABLE_FLAG                   2746 non-null   int64  \n",
            " 13  NODE_VISIT_CNT                   2746 non-null   float64\n",
            " 14  dock_availability_indicator      2746 non-null   int64  \n",
            " 15  forklift_availability_indicator  2746 non-null   int64  \n",
            " 16  customer_location_type           2746 non-null   int64  \n",
            "dtypes: float64(12), int64(5)\n",
            "memory usage: 386.2 KB\n"
          ],
          "name": "stdout"
        }
      ]
    },
    {
      "cell_type": "code",
      "metadata": {
        "colab": {
          "base_uri": "https://localhost:8080/",
          "height": 224
        },
        "id": "JqwQTqh69p2V",
        "outputId": "2c89ee4d-6b07-4db7-a4ab-d9784c619cf6"
      },
      "source": [
        "X_test.head()"
      ],
      "execution_count": null,
      "outputs": [
        {
          "output_type": "execute_result",
          "data": {
            "text/html": [
              "<div>\n",
              "<style scoped>\n",
              "    .dataframe tbody tr th:only-of-type {\n",
              "        vertical-align: middle;\n",
              "    }\n",
              "\n",
              "    .dataframe tbody tr th {\n",
              "        vertical-align: top;\n",
              "    }\n",
              "\n",
              "    .dataframe thead th {\n",
              "        text-align: right;\n",
              "    }\n",
              "</style>\n",
              "<table border=\"1\" class=\"dataframe\">\n",
              "  <thead>\n",
              "    <tr style=\"text-align: right;\">\n",
              "      <th></th>\n",
              "      <th>DL</th>\n",
              "      <th>DP</th>\n",
              "      <th>HE</th>\n",
              "      <th>HK</th>\n",
              "      <th>HL</th>\n",
              "      <th>PU</th>\n",
              "      <th>SE</th>\n",
              "      <th>SL</th>\n",
              "      <th>WEIGHT</th>\n",
              "      <th>MOTORIZED_PIECES_COUNT</th>\n",
              "      <th>TOTAL_VOLUME_CUBIC_FOOT</th>\n",
              "      <th>HAZMAT_FLAG</th>\n",
              "      <th>FREEZABLE_FLAG</th>\n",
              "      <th>NODE_VISIT_CNT</th>\n",
              "      <th>dock_availability_indicator</th>\n",
              "      <th>forklift_availability_indicator</th>\n",
              "      <th>customer_location_type</th>\n",
              "    </tr>\n",
              "  </thead>\n",
              "  <tbody>\n",
              "    <tr>\n",
              "      <th>11044</th>\n",
              "      <td>0.000000</td>\n",
              "      <td>0.0</td>\n",
              "      <td>0.0</td>\n",
              "      <td>0.0</td>\n",
              "      <td>0.0</td>\n",
              "      <td>0.058824</td>\n",
              "      <td>0.0</td>\n",
              "      <td>0.0</td>\n",
              "      <td>0.024033</td>\n",
              "      <td>0.004444</td>\n",
              "      <td>0.105295</td>\n",
              "      <td>0</td>\n",
              "      <td>0</td>\n",
              "      <td>0.007357</td>\n",
              "      <td>2</td>\n",
              "      <td>2</td>\n",
              "      <td>0</td>\n",
              "    </tr>\n",
              "    <tr>\n",
              "      <th>12092</th>\n",
              "      <td>0.000000</td>\n",
              "      <td>0.0</td>\n",
              "      <td>0.0</td>\n",
              "      <td>0.0</td>\n",
              "      <td>0.0</td>\n",
              "      <td>0.235294</td>\n",
              "      <td>0.0</td>\n",
              "      <td>0.0</td>\n",
              "      <td>0.018673</td>\n",
              "      <td>0.017778</td>\n",
              "      <td>0.104629</td>\n",
              "      <td>0</td>\n",
              "      <td>0</td>\n",
              "      <td>0.037669</td>\n",
              "      <td>2</td>\n",
              "      <td>2</td>\n",
              "      <td>3</td>\n",
              "    </tr>\n",
              "    <tr>\n",
              "      <th>1575</th>\n",
              "      <td>0.055556</td>\n",
              "      <td>0.0</td>\n",
              "      <td>0.0</td>\n",
              "      <td>0.0</td>\n",
              "      <td>0.0</td>\n",
              "      <td>0.000000</td>\n",
              "      <td>0.0</td>\n",
              "      <td>0.0</td>\n",
              "      <td>0.017368</td>\n",
              "      <td>0.013333</td>\n",
              "      <td>0.097732</td>\n",
              "      <td>0</td>\n",
              "      <td>0</td>\n",
              "      <td>0.002649</td>\n",
              "      <td>0</td>\n",
              "      <td>0</td>\n",
              "      <td>0</td>\n",
              "    </tr>\n",
              "    <tr>\n",
              "      <th>3651</th>\n",
              "      <td>0.055556</td>\n",
              "      <td>0.0</td>\n",
              "      <td>0.0</td>\n",
              "      <td>0.0</td>\n",
              "      <td>0.0</td>\n",
              "      <td>0.000000</td>\n",
              "      <td>0.0</td>\n",
              "      <td>0.0</td>\n",
              "      <td>0.017350</td>\n",
              "      <td>0.004444</td>\n",
              "      <td>0.089677</td>\n",
              "      <td>0</td>\n",
              "      <td>0</td>\n",
              "      <td>0.006769</td>\n",
              "      <td>2</td>\n",
              "      <td>2</td>\n",
              "      <td>0</td>\n",
              "    </tr>\n",
              "    <tr>\n",
              "      <th>586</th>\n",
              "      <td>0.055556</td>\n",
              "      <td>0.0</td>\n",
              "      <td>0.0</td>\n",
              "      <td>0.0</td>\n",
              "      <td>0.0</td>\n",
              "      <td>0.000000</td>\n",
              "      <td>0.0</td>\n",
              "      <td>0.0</td>\n",
              "      <td>0.021864</td>\n",
              "      <td>0.004444</td>\n",
              "      <td>0.092100</td>\n",
              "      <td>0</td>\n",
              "      <td>0</td>\n",
              "      <td>0.001471</td>\n",
              "      <td>2</td>\n",
              "      <td>2</td>\n",
              "      <td>3</td>\n",
              "    </tr>\n",
              "  </tbody>\n",
              "</table>\n",
              "</div>"
            ],
            "text/plain": [
              "             DL   DP  ...  forklift_availability_indicator  customer_location_type\n",
              "11044  0.000000  0.0  ...                                2                       0\n",
              "12092  0.000000  0.0  ...                                2                       3\n",
              "1575   0.055556  0.0  ...                                0                       0\n",
              "3651   0.055556  0.0  ...                                2                       0\n",
              "586    0.055556  0.0  ...                                2                       3\n",
              "\n",
              "[5 rows x 17 columns]"
            ]
          },
          "metadata": {
            "tags": []
          },
          "execution_count": 63
        }
      ]
    },
    {
      "cell_type": "markdown",
      "metadata": {
        "id": "Yc4AjxtUDYAg"
      },
      "source": [
        "##**4. Model Building**"
      ]
    },
    {
      "cell_type": "markdown",
      "metadata": {
        "id": "-ZfhC8_eTays"
      },
      "source": [
        "***Section Summary : Model Building***\n",
        "\n",
        "I have applied the following models:\n",
        "1. Linear Regression.\n",
        "2. Random Forest.\n",
        "3. Gradient Boosing - LightGBM.\n",
        "\n",
        "A brief summary of each of these techniques is as follows:\n",
        "1. Linear Regression: Linear regression attempts to model the relationship between two variables by fitting a linear equation to observed data. One variable is considered to be an explanatory variable, and the other is considered to be a dependent variable. A linear regression line has an equation of the form Y = a + bX, where X is the explanatory variable and Y is the dependent variable. The slope of the line is b, and a is the intercept (the value of y when x = 0).\n",
        "2. Random Forest: Random forests or random decision forests are an ensemble learning method for classification, regression and other tasks that operates by constructing a multitude of decision trees at training time. Random forest is a supervised learning algorithm. The \"forest\" it builds, is an ensemble of decision trees, usually trained with the “bagging” method. The general idea of the bagging method is that a combination of learning models increases the overall result.\n",
        "3. Gradient Boosing: In machine learning, boosting is an ensemble meta-algorithm for primarily reducing bias, and also variance in supervised learning, and a family of machine learning algorithms that convert weak learners to strong ones. Each time base learning algorithm is applied, it generates a new weak prediction rule. This is an iterative process. After many iterations, the boosting algorithm combines these weak rules into a single strong prediction rule."
      ]
    },
    {
      "cell_type": "markdown",
      "metadata": {
        "id": "3NEzzwrWzcc2"
      },
      "source": [
        "###1. Linear Regression"
      ]
    },
    {
      "cell_type": "code",
      "metadata": {
        "colab": {
          "base_uri": "https://localhost:8080/"
        },
        "id": "XxwHt91Rw9cP",
        "outputId": "b490a492-33ef-499f-d017-3eb08ce65eef"
      },
      "source": [
        "from sklearn.linear_model import LinearRegression\n",
        "from sklearn.metrics import mean_squared_error\n",
        "from math import sqrt\n",
        "\n",
        "reg = LinearRegression()\n",
        "parameters = {'fit_intercept':[True, False], 'normalize':[True, False], 'copy_X':[True, False]}\n",
        "\n",
        "grid = GridSearchCV(reg, parameters, cv=None, refit=True, verbose=3)\n",
        "\n",
        "grid.fit(X_train, y_train)\n",
        "print('\\nVariance score: {}'.format(grid.score(X_test, y_test)))\n",
        "\n",
        "y_pred = grid.predict(X_test)\n",
        "\n",
        "rms = sqrt(mean_squared_error(y_test, y_pred))\n",
        "print('\\nCustom score: {}'.format(rms))\n",
        "\n",
        "print(\"\\nBest Parameters: \", grid.best_params_)"
      ],
      "execution_count": null,
      "outputs": [
        {
          "output_type": "stream",
          "text": [
            "Fitting 5 folds for each of 8 candidates, totalling 40 fits\n",
            "[CV] copy_X=True, fit_intercept=True, normalize=True .................\n",
            "[CV]  copy_X=True, fit_intercept=True, normalize=True, score=0.336, total=   0.0s\n",
            "[CV] copy_X=True, fit_intercept=True, normalize=True .................\n",
            "[CV]  copy_X=True, fit_intercept=True, normalize=True, score=0.301, total=   0.0s\n",
            "[CV] copy_X=True, fit_intercept=True, normalize=True .................\n",
            "[CV]  copy_X=True, fit_intercept=True, normalize=True, score=0.243, total=   0.0s\n",
            "[CV] copy_X=True, fit_intercept=True, normalize=True .................\n",
            "[CV]  copy_X=True, fit_intercept=True, normalize=True, score=0.292, total=   0.0s\n",
            "[CV] copy_X=True, fit_intercept=True, normalize=True .................\n",
            "[CV]  copy_X=True, fit_intercept=True, normalize=True, score=0.287, total=   0.0s\n",
            "[CV] copy_X=True, fit_intercept=True, normalize=False ................\n",
            "[CV]  copy_X=True, fit_intercept=True, normalize=False, score=0.336, total=   0.0s\n",
            "[CV] copy_X=True, fit_intercept=True, normalize=False ................\n",
            "[CV]  copy_X=True, fit_intercept=True, normalize=False, score=0.301, total=   0.0s\n",
            "[CV] copy_X=True, fit_intercept=True, normalize=False ................\n",
            "[CV]  copy_X=True, fit_intercept=True, normalize=False, score=0.243, total=   0.0s\n",
            "[CV] copy_X=True, fit_intercept=True, normalize=False ................\n"
          ],
          "name": "stdout"
        },
        {
          "output_type": "stream",
          "text": [
            "[Parallel(n_jobs=1)]: Using backend SequentialBackend with 1 concurrent workers.\n",
            "[Parallel(n_jobs=1)]: Done   1 out of   1 | elapsed:    0.0s remaining:    0.0s\n",
            "[Parallel(n_jobs=1)]: Done   2 out of   2 | elapsed:    0.0s remaining:    0.0s\n"
          ],
          "name": "stderr"
        },
        {
          "output_type": "stream",
          "text": [
            "[CV]  copy_X=True, fit_intercept=True, normalize=False, score=0.292, total=   0.0s\n",
            "[CV] copy_X=True, fit_intercept=True, normalize=False ................\n",
            "[CV]  copy_X=True, fit_intercept=True, normalize=False, score=0.287, total=   0.0s\n",
            "[CV] copy_X=True, fit_intercept=False, normalize=True ................\n",
            "[CV]  copy_X=True, fit_intercept=False, normalize=True, score=0.197, total=   0.0s\n",
            "[CV] copy_X=True, fit_intercept=False, normalize=True ................\n",
            "[CV]  copy_X=True, fit_intercept=False, normalize=True, score=0.043, total=   0.0s\n",
            "[CV] copy_X=True, fit_intercept=False, normalize=True ................\n",
            "[CV]  copy_X=True, fit_intercept=False, normalize=True, score=0.095, total=   0.0s\n",
            "[CV] copy_X=True, fit_intercept=False, normalize=True ................\n",
            "[CV]  copy_X=True, fit_intercept=False, normalize=True, score=0.136, total=   0.0s\n",
            "[CV] copy_X=True, fit_intercept=False, normalize=True ................\n",
            "[CV]  copy_X=True, fit_intercept=False, normalize=True, score=0.128, total=   0.0s\n",
            "[CV] copy_X=True, fit_intercept=False, normalize=False ...............\n",
            "[CV]  copy_X=True, fit_intercept=False, normalize=False, score=0.197, total=   0.0s\n",
            "[CV] copy_X=True, fit_intercept=False, normalize=False ...............\n",
            "[CV]  copy_X=True, fit_intercept=False, normalize=False, score=0.043, total=   0.0s\n",
            "[CV] copy_X=True, fit_intercept=False, normalize=False ...............\n",
            "[CV]  copy_X=True, fit_intercept=False, normalize=False, score=0.095, total=   0.0s\n",
            "[CV] copy_X=True, fit_intercept=False, normalize=False ...............\n",
            "[CV]  copy_X=True, fit_intercept=False, normalize=False, score=0.136, total=   0.0s\n",
            "[CV] copy_X=True, fit_intercept=False, normalize=False ...............\n",
            "[CV]  copy_X=True, fit_intercept=False, normalize=False, score=0.128, total=   0.0s\n",
            "[CV] copy_X=False, fit_intercept=True, normalize=True ................\n",
            "[CV]  copy_X=False, fit_intercept=True, normalize=True, score=0.336, total=   0.0s\n",
            "[CV] copy_X=False, fit_intercept=True, normalize=True ................\n",
            "[CV]  copy_X=False, fit_intercept=True, normalize=True, score=0.301, total=   0.0s\n",
            "[CV] copy_X=False, fit_intercept=True, normalize=True ................\n",
            "[CV]  copy_X=False, fit_intercept=True, normalize=True, score=0.243, total=   0.0s\n",
            "[CV] copy_X=False, fit_intercept=True, normalize=True ................\n",
            "[CV]  copy_X=False, fit_intercept=True, normalize=True, score=0.292, total=   0.0s\n",
            "[CV] copy_X=False, fit_intercept=True, normalize=True ................\n",
            "[CV]  copy_X=False, fit_intercept=True, normalize=True, score=0.287, total=   0.0s\n",
            "[CV] copy_X=False, fit_intercept=True, normalize=False ...............\n",
            "[CV]  copy_X=False, fit_intercept=True, normalize=False, score=0.336, total=   0.0s\n",
            "[CV] copy_X=False, fit_intercept=True, normalize=False ...............\n",
            "[CV]  copy_X=False, fit_intercept=True, normalize=False, score=0.301, total=   0.0s\n",
            "[CV] copy_X=False, fit_intercept=True, normalize=False ...............\n",
            "[CV]  copy_X=False, fit_intercept=True, normalize=False, score=0.243, total=   0.0s\n",
            "[CV] copy_X=False, fit_intercept=True, normalize=False ...............\n",
            "[CV]  copy_X=False, fit_intercept=True, normalize=False, score=0.292, total=   0.0s\n",
            "[CV] copy_X=False, fit_intercept=True, normalize=False ...............\n",
            "[CV]  copy_X=False, fit_intercept=True, normalize=False, score=0.287, total=   0.0s\n",
            "[CV] copy_X=False, fit_intercept=False, normalize=True ...............\n",
            "[CV]  copy_X=False, fit_intercept=False, normalize=True, score=0.197, total=   0.0s\n",
            "[CV] copy_X=False, fit_intercept=False, normalize=True ...............\n",
            "[CV]  copy_X=False, fit_intercept=False, normalize=True, score=0.043, total=   0.0s\n",
            "[CV] copy_X=False, fit_intercept=False, normalize=True ...............\n",
            "[CV]  copy_X=False, fit_intercept=False, normalize=True, score=0.095, total=   0.0s\n",
            "[CV] copy_X=False, fit_intercept=False, normalize=True ...............\n",
            "[CV]  copy_X=False, fit_intercept=False, normalize=True, score=0.136, total=   0.0s\n",
            "[CV] copy_X=False, fit_intercept=False, normalize=True ...............\n",
            "[CV]  copy_X=False, fit_intercept=False, normalize=True, score=0.128, total=   0.0s\n",
            "[CV] copy_X=False, fit_intercept=False, normalize=False ..............\n",
            "[CV]  copy_X=False, fit_intercept=False, normalize=False, score=0.197, total=   0.0s\n",
            "[CV] copy_X=False, fit_intercept=False, normalize=False ..............\n",
            "[CV]  copy_X=False, fit_intercept=False, normalize=False, score=0.043, total=   0.0s\n",
            "[CV] copy_X=False, fit_intercept=False, normalize=False ..............\n",
            "[CV]  copy_X=False, fit_intercept=False, normalize=False, score=0.095, total=   0.0s\n",
            "[CV] copy_X=False, fit_intercept=False, normalize=False ..............\n",
            "[CV]  copy_X=False, fit_intercept=False, normalize=False, score=0.136, total=   0.0s\n",
            "[CV] copy_X=False, fit_intercept=False, normalize=False ..............\n",
            "[CV]  copy_X=False, fit_intercept=False, normalize=False, score=0.128, total=   0.0s\n",
            "\n",
            "Variance score: -0.04249444814703818\n",
            "\n",
            "Custom score: 20.489800377473472\n",
            "\n",
            "Best Parameters:  {'copy_X': True, 'fit_intercept': True, 'normalize': True}\n"
          ],
          "name": "stdout"
        },
        {
          "output_type": "stream",
          "text": [
            "[Parallel(n_jobs=1)]: Done  40 out of  40 | elapsed:    0.8s finished\n"
          ],
          "name": "stderr"
        }
      ]
    },
    {
      "cell_type": "markdown",
      "metadata": {
        "id": "u6_VNkhY-_v9"
      },
      "source": [
        "###2. Random Forest"
      ]
    },
    {
      "cell_type": "code",
      "metadata": {
        "colab": {
          "base_uri": "https://localhost:8080/"
        },
        "id": "WEuqfANT_BJG",
        "outputId": "0b020c9a-0495-4ca5-c575-a7c48b19d2e7"
      },
      "source": [
        "from sklearn.ensemble import RandomForestRegressor\n",
        "\n",
        "rf_reg = RandomForestRegressor(n_jobs=-1)\n",
        "parameters = {'n_estimators':[500, 750, 1000, 1500, 2500],\n",
        "              'max_features':[0.75, 1]\n",
        "              }\n",
        "\n",
        "rf_grid = RandomizedSearchCV(rf_reg, parameters, cv=None, refit=True, verbose=3)\n",
        "\n",
        "rf_grid.fit(X_train, y_train)\n",
        "print('\\nVariance score: {}'.format(rf_grid.score(X_test, y_test)))\n",
        "\n",
        "y_pred = rf_grid.predict(X_test)\n",
        "\n",
        "rms = sqrt(mean_squared_error(y_test, y_pred))\n",
        "print('\\nCustom score: {}'.format(rms))\n",
        "\n",
        "print(\"\\nBest Parameters: \", rf_grid.best_params_)\n",
        "\n",
        "rms = sqrt(mean_squared_error(y_test, y_pred))\n",
        "print('\\nCustom score: {}'.format(rms))"
      ],
      "execution_count": null,
      "outputs": [
        {
          "output_type": "stream",
          "text": [
            "Fitting 5 folds for each of 10 candidates, totalling 50 fits\n",
            "[CV] n_estimators=500, max_features=0.75 .............................\n"
          ],
          "name": "stdout"
        },
        {
          "output_type": "stream",
          "text": [
            "[Parallel(n_jobs=1)]: Using backend SequentialBackend with 1 concurrent workers.\n"
          ],
          "name": "stderr"
        },
        {
          "output_type": "stream",
          "text": [
            "[CV] . n_estimators=500, max_features=0.75, score=0.343, total=  13.4s\n",
            "[CV] n_estimators=500, max_features=0.75 .............................\n"
          ],
          "name": "stdout"
        },
        {
          "output_type": "stream",
          "text": [
            "[Parallel(n_jobs=1)]: Done   1 out of   1 | elapsed:   13.4s remaining:    0.0s\n"
          ],
          "name": "stderr"
        },
        {
          "output_type": "stream",
          "text": [
            "[CV] . n_estimators=500, max_features=0.75, score=0.297, total=  13.4s\n",
            "[CV] n_estimators=500, max_features=0.75 .............................\n"
          ],
          "name": "stdout"
        },
        {
          "output_type": "stream",
          "text": [
            "[Parallel(n_jobs=1)]: Done   2 out of   2 | elapsed:   26.8s remaining:    0.0s\n"
          ],
          "name": "stderr"
        },
        {
          "output_type": "stream",
          "text": [
            "[CV] . n_estimators=500, max_features=0.75, score=0.256, total=  13.4s\n",
            "[CV] n_estimators=500, max_features=0.75 .............................\n",
            "[CV] . n_estimators=500, max_features=0.75, score=0.313, total=  13.2s\n",
            "[CV] n_estimators=500, max_features=0.75 .............................\n",
            "[CV] . n_estimators=500, max_features=0.75, score=0.300, total=  13.1s\n",
            "[CV] n_estimators=750, max_features=0.75 .............................\n",
            "[CV] . n_estimators=750, max_features=0.75, score=0.347, total=  19.9s\n",
            "[CV] n_estimators=750, max_features=0.75 .............................\n",
            "[CV] . n_estimators=750, max_features=0.75, score=0.295, total=  20.1s\n",
            "[CV] n_estimators=750, max_features=0.75 .............................\n",
            "[CV] . n_estimators=750, max_features=0.75, score=0.253, total=  19.9s\n",
            "[CV] n_estimators=750, max_features=0.75 .............................\n",
            "[CV] . n_estimators=750, max_features=0.75, score=0.314, total=  19.7s\n",
            "[CV] n_estimators=750, max_features=0.75 .............................\n",
            "[CV] . n_estimators=750, max_features=0.75, score=0.301, total=  19.7s\n",
            "[CV] n_estimators=1000, max_features=0.75 ............................\n",
            "[CV]  n_estimators=1000, max_features=0.75, score=0.348, total=  26.5s\n",
            "[CV] n_estimators=1000, max_features=0.75 ............................\n",
            "[CV]  n_estimators=1000, max_features=0.75, score=0.293, total=  26.7s\n",
            "[CV] n_estimators=1000, max_features=0.75 ............................\n",
            "[CV]  n_estimators=1000, max_features=0.75, score=0.258, total=  26.5s\n",
            "[CV] n_estimators=1000, max_features=0.75 ............................\n",
            "[CV]  n_estimators=1000, max_features=0.75, score=0.314, total=  26.3s\n",
            "[CV] n_estimators=1000, max_features=0.75 ............................\n",
            "[CV]  n_estimators=1000, max_features=0.75, score=0.300, total=  26.2s\n",
            "[CV] n_estimators=1500, max_features=0.75 ............................\n",
            "[CV]  n_estimators=1500, max_features=0.75, score=0.345, total=  39.9s\n",
            "[CV] n_estimators=1500, max_features=0.75 ............................\n",
            "[CV]  n_estimators=1500, max_features=0.75, score=0.293, total=  40.0s\n",
            "[CV] n_estimators=1500, max_features=0.75 ............................\n",
            "[CV]  n_estimators=1500, max_features=0.75, score=0.258, total=  39.7s\n",
            "[CV] n_estimators=1500, max_features=0.75 ............................\n",
            "[CV]  n_estimators=1500, max_features=0.75, score=0.317, total=  39.5s\n",
            "[CV] n_estimators=1500, max_features=0.75 ............................\n",
            "[CV]  n_estimators=1500, max_features=0.75, score=0.302, total=  39.5s\n",
            "[CV] n_estimators=2500, max_features=0.75 ............................\n",
            "[CV]  n_estimators=2500, max_features=0.75, score=0.346, total= 1.1min\n",
            "[CV] n_estimators=2500, max_features=0.75 ............................\n",
            "[CV]  n_estimators=2500, max_features=0.75, score=0.293, total= 1.1min\n",
            "[CV] n_estimators=2500, max_features=0.75 ............................\n",
            "[CV]  n_estimators=2500, max_features=0.75, score=0.257, total= 1.1min\n",
            "[CV] n_estimators=2500, max_features=0.75 ............................\n",
            "[CV]  n_estimators=2500, max_features=0.75, score=0.314, total= 1.1min\n",
            "[CV] n_estimators=2500, max_features=0.75 ............................\n",
            "[CV]  n_estimators=2500, max_features=0.75, score=0.302, total= 1.1min\n",
            "[CV] n_estimators=500, max_features=1 ................................\n",
            "[CV] .... n_estimators=500, max_features=1, score=0.350, total=   6.1s\n",
            "[CV] n_estimators=500, max_features=1 ................................\n",
            "[CV] .... n_estimators=500, max_features=1, score=0.328, total=   6.2s\n",
            "[CV] n_estimators=500, max_features=1 ................................\n",
            "[CV] .... n_estimators=500, max_features=1, score=0.286, total=   6.2s\n",
            "[CV] n_estimators=500, max_features=1 ................................\n",
            "[CV] .... n_estimators=500, max_features=1, score=0.322, total=   6.1s\n",
            "[CV] n_estimators=500, max_features=1 ................................\n",
            "[CV] .... n_estimators=500, max_features=1, score=0.312, total=   6.1s\n",
            "[CV] n_estimators=750, max_features=1 ................................\n",
            "[CV] .... n_estimators=750, max_features=1, score=0.356, total=   9.2s\n",
            "[CV] n_estimators=750, max_features=1 ................................\n",
            "[CV] .... n_estimators=750, max_features=1, score=0.329, total=   9.2s\n",
            "[CV] n_estimators=750, max_features=1 ................................\n",
            "[CV] .... n_estimators=750, max_features=1, score=0.287, total=   9.3s\n",
            "[CV] n_estimators=750, max_features=1 ................................\n",
            "[CV] .... n_estimators=750, max_features=1, score=0.323, total=   9.2s\n",
            "[CV] n_estimators=750, max_features=1 ................................\n",
            "[CV] .... n_estimators=750, max_features=1, score=0.316, total=   9.2s\n",
            "[CV] n_estimators=1000, max_features=1 ...............................\n",
            "[CV] ... n_estimators=1000, max_features=1, score=0.355, total=  12.2s\n",
            "[CV] n_estimators=1000, max_features=1 ...............................\n",
            "[CV] ... n_estimators=1000, max_features=1, score=0.326, total=  12.2s\n",
            "[CV] n_estimators=1000, max_features=1 ...............................\n",
            "[CV] ... n_estimators=1000, max_features=1, score=0.289, total=  12.2s\n",
            "[CV] n_estimators=1000, max_features=1 ...............................\n",
            "[CV] ... n_estimators=1000, max_features=1, score=0.322, total=  12.2s\n",
            "[CV] n_estimators=1000, max_features=1 ...............................\n",
            "[CV] ... n_estimators=1000, max_features=1, score=0.314, total=  12.1s\n",
            "[CV] n_estimators=1500, max_features=1 ...............................\n",
            "[CV] ... n_estimators=1500, max_features=1, score=0.354, total=  18.3s\n",
            "[CV] n_estimators=1500, max_features=1 ...............................\n",
            "[CV] ... n_estimators=1500, max_features=1, score=0.330, total=  18.3s\n",
            "[CV] n_estimators=1500, max_features=1 ...............................\n",
            "[CV] ... n_estimators=1500, max_features=1, score=0.290, total=  18.3s\n",
            "[CV] n_estimators=1500, max_features=1 ...............................\n",
            "[CV] ... n_estimators=1500, max_features=1, score=0.321, total=  18.2s\n",
            "[CV] n_estimators=1500, max_features=1 ...............................\n",
            "[CV] ... n_estimators=1500, max_features=1, score=0.315, total=  18.1s\n",
            "[CV] n_estimators=2500, max_features=1 ...............................\n",
            "[CV] ... n_estimators=2500, max_features=1, score=0.354, total=  30.1s\n",
            "[CV] n_estimators=2500, max_features=1 ...............................\n",
            "[CV] ... n_estimators=2500, max_features=1, score=0.329, total=  30.0s\n",
            "[CV] n_estimators=2500, max_features=1 ...............................\n",
            "[CV] ... n_estimators=2500, max_features=1, score=0.288, total=  30.4s\n",
            "[CV] n_estimators=2500, max_features=1 ...............................\n",
            "[CV] ... n_estimators=2500, max_features=1, score=0.323, total=  30.1s\n",
            "[CV] n_estimators=2500, max_features=1 ...............................\n",
            "[CV] ... n_estimators=2500, max_features=1, score=0.315, total=  30.0s\n"
          ],
          "name": "stdout"
        },
        {
          "output_type": "stream",
          "text": [
            "[Parallel(n_jobs=1)]: Done  50 out of  50 | elapsed: 20.1min finished\n"
          ],
          "name": "stderr"
        },
        {
          "output_type": "stream",
          "text": [
            "\n",
            "Variance score: -0.031249823271292554\n",
            "\n",
            "Custom score: 20.37899653469533\n",
            "\n",
            "Best Parameters:  {'n_estimators': 750, 'max_features': 1}\n",
            "\n",
            "Custom score: 20.37899653469533\n"
          ],
          "name": "stdout"
        }
      ]
    },
    {
      "cell_type": "markdown",
      "metadata": {
        "id": "49Cmp4nm_eFa"
      },
      "source": [
        "###3. Gradient Boosting"
      ]
    },
    {
      "cell_type": "code",
      "metadata": {
        "colab": {
          "base_uri": "https://localhost:8080/"
        },
        "id": "GO5gImZw_dWu",
        "outputId": "4ba4503d-3d9c-442b-f32d-aef9f0b94322"
      },
      "source": [
        "import lightgbm as lgb\n",
        "\n",
        "lgbm = lgb.LGBMRegressor(random_state=42)\n",
        "param_test = {  'boosting_type':['gbdt'],\n",
        "                'num_leaves': [15, 20, 25, 40, 75], \n",
        "                'max_depth': [1, 2, 3],\n",
        "                'n_estimators':[75, 100, 200, 500, 750, 1000, 1250, 1500],\n",
        "                'learning_rate': [0.001, 0.01, 0.1, 1],\n",
        "                'subsample_for_bin': [300, 500, 750, 1000, 1250],\n",
        "                'min_child_samples': [1, 3, 10], \n",
        "                'min_child_weight': [1e-3, 1e-2, 1e-1, 1, 1e1],\n",
        "                'subsample': [0.6, 0.75, 0.85, 1], \n",
        "                'colsample_bytree': [0.25, 0.3, 0.35, 0.4, 0.45, 0.5, 0.55, 0.6, 0.65, 0.7, 0.75],\n",
        "                'importance_type': ['split', 'gain'],\n",
        "                'reg_alpha': [1e-2, 1e-1, 1],\n",
        "                'reg_lambda': [1e-2, 1e-1, 1]\n",
        "             }\n",
        "\n",
        "lgb_rand = RandomizedSearchCV(lgbm, param_test, cv=None, refit=True, verbose=3)\n",
        "\n",
        "lgb_rand.fit(X_train, y_train)\n",
        "print('\\nVariance score: {}'.format(lgb_rand.score(X_test, y_test)))\n",
        "\n",
        "y_pred = lgb_rand.predict(X_test)\n",
        "rms = sqrt(mean_squared_error(y_test, y_pred))\n",
        "print('\\nCustom score: {}'.format(rms))\n",
        "\n",
        "print(\"\\nBest Parameters: \", lgb_rand.best_params_)"
      ],
      "execution_count": null,
      "outputs": [
        {
          "output_type": "stream",
          "text": [
            "Fitting 5 folds for each of 10 candidates, totalling 50 fits\n",
            "[CV] subsample_for_bin=1250, subsample=0.85, reg_lambda=0.1, reg_alpha=0.01, num_leaves=20, n_estimators=1500, min_child_weight=0.001, min_child_samples=1, max_depth=2, learning_rate=0.01, importance_type=split, colsample_bytree=0.75, boosting_type=gbdt \n"
          ],
          "name": "stdout"
        },
        {
          "output_type": "stream",
          "text": [
            "[Parallel(n_jobs=1)]: Using backend SequentialBackend with 1 concurrent workers.\n"
          ],
          "name": "stderr"
        },
        {
          "output_type": "stream",
          "text": [
            "[CV]  subsample_for_bin=1250, subsample=0.85, reg_lambda=0.1, reg_alpha=0.01, num_leaves=20, n_estimators=1500, min_child_weight=0.001, min_child_samples=1, max_depth=2, learning_rate=0.01, importance_type=split, colsample_bytree=0.75, boosting_type=gbdt, score=0.386, total=   0.6s\n",
            "[CV] subsample_for_bin=1250, subsample=0.85, reg_lambda=0.1, reg_alpha=0.01, num_leaves=20, n_estimators=1500, min_child_weight=0.001, min_child_samples=1, max_depth=2, learning_rate=0.01, importance_type=split, colsample_bytree=0.75, boosting_type=gbdt \n"
          ],
          "name": "stdout"
        },
        {
          "output_type": "stream",
          "text": [
            "[Parallel(n_jobs=1)]: Done   1 out of   1 | elapsed:    0.6s remaining:    0.0s\n"
          ],
          "name": "stderr"
        },
        {
          "output_type": "stream",
          "text": [
            "[CV]  subsample_for_bin=1250, subsample=0.85, reg_lambda=0.1, reg_alpha=0.01, num_leaves=20, n_estimators=1500, min_child_weight=0.001, min_child_samples=1, max_depth=2, learning_rate=0.01, importance_type=split, colsample_bytree=0.75, boosting_type=gbdt, score=0.358, total=   0.6s\n",
            "[CV] subsample_for_bin=1250, subsample=0.85, reg_lambda=0.1, reg_alpha=0.01, num_leaves=20, n_estimators=1500, min_child_weight=0.001, min_child_samples=1, max_depth=2, learning_rate=0.01, importance_type=split, colsample_bytree=0.75, boosting_type=gbdt \n"
          ],
          "name": "stdout"
        },
        {
          "output_type": "stream",
          "text": [
            "[Parallel(n_jobs=1)]: Done   2 out of   2 | elapsed:    1.2s remaining:    0.0s\n"
          ],
          "name": "stderr"
        },
        {
          "output_type": "stream",
          "text": [
            "[CV]  subsample_for_bin=1250, subsample=0.85, reg_lambda=0.1, reg_alpha=0.01, num_leaves=20, n_estimators=1500, min_child_weight=0.001, min_child_samples=1, max_depth=2, learning_rate=0.01, importance_type=split, colsample_bytree=0.75, boosting_type=gbdt, score=0.295, total=   0.6s\n",
            "[CV] subsample_for_bin=1250, subsample=0.85, reg_lambda=0.1, reg_alpha=0.01, num_leaves=20, n_estimators=1500, min_child_weight=0.001, min_child_samples=1, max_depth=2, learning_rate=0.01, importance_type=split, colsample_bytree=0.75, boosting_type=gbdt \n",
            "[CV]  subsample_for_bin=1250, subsample=0.85, reg_lambda=0.1, reg_alpha=0.01, num_leaves=20, n_estimators=1500, min_child_weight=0.001, min_child_samples=1, max_depth=2, learning_rate=0.01, importance_type=split, colsample_bytree=0.75, boosting_type=gbdt, score=0.333, total=   0.6s\n",
            "[CV] subsample_for_bin=1250, subsample=0.85, reg_lambda=0.1, reg_alpha=0.01, num_leaves=20, n_estimators=1500, min_child_weight=0.001, min_child_samples=1, max_depth=2, learning_rate=0.01, importance_type=split, colsample_bytree=0.75, boosting_type=gbdt \n",
            "[CV]  subsample_for_bin=1250, subsample=0.85, reg_lambda=0.1, reg_alpha=0.01, num_leaves=20, n_estimators=1500, min_child_weight=0.001, min_child_samples=1, max_depth=2, learning_rate=0.01, importance_type=split, colsample_bytree=0.75, boosting_type=gbdt, score=0.309, total=   0.6s\n",
            "[CV] subsample_for_bin=750, subsample=0.85, reg_lambda=0.1, reg_alpha=1, num_leaves=75, n_estimators=500, min_child_weight=10.0, min_child_samples=10, max_depth=1, learning_rate=0.01, importance_type=gain, colsample_bytree=0.7, boosting_type=gbdt \n",
            "[CV]  subsample_for_bin=750, subsample=0.85, reg_lambda=0.1, reg_alpha=1, num_leaves=75, n_estimators=500, min_child_weight=10.0, min_child_samples=10, max_depth=1, learning_rate=0.01, importance_type=gain, colsample_bytree=0.7, boosting_type=gbdt, score=0.328, total=   0.1s\n",
            "[CV] subsample_for_bin=750, subsample=0.85, reg_lambda=0.1, reg_alpha=1, num_leaves=75, n_estimators=500, min_child_weight=10.0, min_child_samples=10, max_depth=1, learning_rate=0.01, importance_type=gain, colsample_bytree=0.7, boosting_type=gbdt \n",
            "[CV]  subsample_for_bin=750, subsample=0.85, reg_lambda=0.1, reg_alpha=1, num_leaves=75, n_estimators=500, min_child_weight=10.0, min_child_samples=10, max_depth=1, learning_rate=0.01, importance_type=gain, colsample_bytree=0.7, boosting_type=gbdt, score=0.332, total=   0.1s\n",
            "[CV] subsample_for_bin=750, subsample=0.85, reg_lambda=0.1, reg_alpha=1, num_leaves=75, n_estimators=500, min_child_weight=10.0, min_child_samples=10, max_depth=1, learning_rate=0.01, importance_type=gain, colsample_bytree=0.7, boosting_type=gbdt \n",
            "[CV]  subsample_for_bin=750, subsample=0.85, reg_lambda=0.1, reg_alpha=1, num_leaves=75, n_estimators=500, min_child_weight=10.0, min_child_samples=10, max_depth=1, learning_rate=0.01, importance_type=gain, colsample_bytree=0.7, boosting_type=gbdt, score=0.275, total=   0.1s\n",
            "[CV] subsample_for_bin=750, subsample=0.85, reg_lambda=0.1, reg_alpha=1, num_leaves=75, n_estimators=500, min_child_weight=10.0, min_child_samples=10, max_depth=1, learning_rate=0.01, importance_type=gain, colsample_bytree=0.7, boosting_type=gbdt \n",
            "[CV]  subsample_for_bin=750, subsample=0.85, reg_lambda=0.1, reg_alpha=1, num_leaves=75, n_estimators=500, min_child_weight=10.0, min_child_samples=10, max_depth=1, learning_rate=0.01, importance_type=gain, colsample_bytree=0.7, boosting_type=gbdt, score=0.280, total=   0.1s\n",
            "[CV] subsample_for_bin=750, subsample=0.85, reg_lambda=0.1, reg_alpha=1, num_leaves=75, n_estimators=500, min_child_weight=10.0, min_child_samples=10, max_depth=1, learning_rate=0.01, importance_type=gain, colsample_bytree=0.7, boosting_type=gbdt \n",
            "[CV]  subsample_for_bin=750, subsample=0.85, reg_lambda=0.1, reg_alpha=1, num_leaves=75, n_estimators=500, min_child_weight=10.0, min_child_samples=10, max_depth=1, learning_rate=0.01, importance_type=gain, colsample_bytree=0.7, boosting_type=gbdt, score=0.294, total=   0.1s\n",
            "[CV] subsample_for_bin=300, subsample=0.85, reg_lambda=0.01, reg_alpha=0.01, num_leaves=20, n_estimators=200, min_child_weight=10.0, min_child_samples=3, max_depth=3, learning_rate=0.01, importance_type=split, colsample_bytree=0.65, boosting_type=gbdt \n",
            "[CV]  subsample_for_bin=300, subsample=0.85, reg_lambda=0.01, reg_alpha=0.01, num_leaves=20, n_estimators=200, min_child_weight=10.0, min_child_samples=3, max_depth=3, learning_rate=0.01, importance_type=split, colsample_bytree=0.65, boosting_type=gbdt, score=0.333, total=   0.1s\n",
            "[CV] subsample_for_bin=300, subsample=0.85, reg_lambda=0.01, reg_alpha=0.01, num_leaves=20, n_estimators=200, min_child_weight=10.0, min_child_samples=3, max_depth=3, learning_rate=0.01, importance_type=split, colsample_bytree=0.65, boosting_type=gbdt \n",
            "[CV]  subsample_for_bin=300, subsample=0.85, reg_lambda=0.01, reg_alpha=0.01, num_leaves=20, n_estimators=200, min_child_weight=10.0, min_child_samples=3, max_depth=3, learning_rate=0.01, importance_type=split, colsample_bytree=0.65, boosting_type=gbdt, score=0.339, total=   0.1s\n",
            "[CV] subsample_for_bin=300, subsample=0.85, reg_lambda=0.01, reg_alpha=0.01, num_leaves=20, n_estimators=200, min_child_weight=10.0, min_child_samples=3, max_depth=3, learning_rate=0.01, importance_type=split, colsample_bytree=0.65, boosting_type=gbdt \n",
            "[CV]  subsample_for_bin=300, subsample=0.85, reg_lambda=0.01, reg_alpha=0.01, num_leaves=20, n_estimators=200, min_child_weight=10.0, min_child_samples=3, max_depth=3, learning_rate=0.01, importance_type=split, colsample_bytree=0.65, boosting_type=gbdt, score=0.275, total=   0.1s\n",
            "[CV] subsample_for_bin=300, subsample=0.85, reg_lambda=0.01, reg_alpha=0.01, num_leaves=20, n_estimators=200, min_child_weight=10.0, min_child_samples=3, max_depth=3, learning_rate=0.01, importance_type=split, colsample_bytree=0.65, boosting_type=gbdt \n",
            "[CV]  subsample_for_bin=300, subsample=0.85, reg_lambda=0.01, reg_alpha=0.01, num_leaves=20, n_estimators=200, min_child_weight=10.0, min_child_samples=3, max_depth=3, learning_rate=0.01, importance_type=split, colsample_bytree=0.65, boosting_type=gbdt, score=0.295, total=   0.1s\n",
            "[CV] subsample_for_bin=300, subsample=0.85, reg_lambda=0.01, reg_alpha=0.01, num_leaves=20, n_estimators=200, min_child_weight=10.0, min_child_samples=3, max_depth=3, learning_rate=0.01, importance_type=split, colsample_bytree=0.65, boosting_type=gbdt \n",
            "[CV]  subsample_for_bin=300, subsample=0.85, reg_lambda=0.01, reg_alpha=0.01, num_leaves=20, n_estimators=200, min_child_weight=10.0, min_child_samples=3, max_depth=3, learning_rate=0.01, importance_type=split, colsample_bytree=0.65, boosting_type=gbdt, score=0.295, total=   0.1s\n",
            "[CV] subsample_for_bin=300, subsample=1, reg_lambda=0.1, reg_alpha=0.01, num_leaves=15, n_estimators=100, min_child_weight=0.01, min_child_samples=1, max_depth=1, learning_rate=0.001, importance_type=gain, colsample_bytree=0.75, boosting_type=gbdt \n",
            "[CV]  subsample_for_bin=300, subsample=1, reg_lambda=0.1, reg_alpha=0.01, num_leaves=15, n_estimators=100, min_child_weight=0.01, min_child_samples=1, max_depth=1, learning_rate=0.001, importance_type=gain, colsample_bytree=0.75, boosting_type=gbdt, score=0.032, total=   0.1s\n",
            "[CV] subsample_for_bin=300, subsample=1, reg_lambda=0.1, reg_alpha=0.01, num_leaves=15, n_estimators=100, min_child_weight=0.01, min_child_samples=1, max_depth=1, learning_rate=0.001, importance_type=gain, colsample_bytree=0.75, boosting_type=gbdt \n",
            "[CV]  subsample_for_bin=300, subsample=1, reg_lambda=0.1, reg_alpha=0.01, num_leaves=15, n_estimators=100, min_child_weight=0.01, min_child_samples=1, max_depth=1, learning_rate=0.001, importance_type=gain, colsample_bytree=0.75, boosting_type=gbdt, score=0.037, total=   0.0s\n",
            "[CV] subsample_for_bin=300, subsample=1, reg_lambda=0.1, reg_alpha=0.01, num_leaves=15, n_estimators=100, min_child_weight=0.01, min_child_samples=1, max_depth=1, learning_rate=0.001, importance_type=gain, colsample_bytree=0.75, boosting_type=gbdt \n",
            "[CV]  subsample_for_bin=300, subsample=1, reg_lambda=0.1, reg_alpha=0.01, num_leaves=15, n_estimators=100, min_child_weight=0.01, min_child_samples=1, max_depth=1, learning_rate=0.001, importance_type=gain, colsample_bytree=0.75, boosting_type=gbdt, score=0.033, total=   0.0s\n",
            "[CV] subsample_for_bin=300, subsample=1, reg_lambda=0.1, reg_alpha=0.01, num_leaves=15, n_estimators=100, min_child_weight=0.01, min_child_samples=1, max_depth=1, learning_rate=0.001, importance_type=gain, colsample_bytree=0.75, boosting_type=gbdt \n",
            "[CV]  subsample_for_bin=300, subsample=1, reg_lambda=0.1, reg_alpha=0.01, num_leaves=15, n_estimators=100, min_child_weight=0.01, min_child_samples=1, max_depth=1, learning_rate=0.001, importance_type=gain, colsample_bytree=0.75, boosting_type=gbdt, score=0.031, total=   0.0s\n",
            "[CV] subsample_for_bin=300, subsample=1, reg_lambda=0.1, reg_alpha=0.01, num_leaves=15, n_estimators=100, min_child_weight=0.01, min_child_samples=1, max_depth=1, learning_rate=0.001, importance_type=gain, colsample_bytree=0.75, boosting_type=gbdt \n",
            "[CV]  subsample_for_bin=300, subsample=1, reg_lambda=0.1, reg_alpha=0.01, num_leaves=15, n_estimators=100, min_child_weight=0.01, min_child_samples=1, max_depth=1, learning_rate=0.001, importance_type=gain, colsample_bytree=0.75, boosting_type=gbdt, score=0.030, total=   0.0s\n",
            "[CV] subsample_for_bin=1250, subsample=0.75, reg_lambda=0.1, reg_alpha=0.01, num_leaves=15, n_estimators=500, min_child_weight=0.01, min_child_samples=1, max_depth=2, learning_rate=0.1, importance_type=split, colsample_bytree=0.35, boosting_type=gbdt \n",
            "[CV]  subsample_for_bin=1250, subsample=0.75, reg_lambda=0.1, reg_alpha=0.01, num_leaves=15, n_estimators=500, min_child_weight=0.01, min_child_samples=1, max_depth=2, learning_rate=0.1, importance_type=split, colsample_bytree=0.35, boosting_type=gbdt, score=0.381, total=   0.1s\n",
            "[CV] subsample_for_bin=1250, subsample=0.75, reg_lambda=0.1, reg_alpha=0.01, num_leaves=15, n_estimators=500, min_child_weight=0.01, min_child_samples=1, max_depth=2, learning_rate=0.1, importance_type=split, colsample_bytree=0.35, boosting_type=gbdt \n",
            "[CV]  subsample_for_bin=1250, subsample=0.75, reg_lambda=0.1, reg_alpha=0.01, num_leaves=15, n_estimators=500, min_child_weight=0.01, min_child_samples=1, max_depth=2, learning_rate=0.1, importance_type=split, colsample_bytree=0.35, boosting_type=gbdt, score=0.350, total=   0.1s\n",
            "[CV] subsample_for_bin=1250, subsample=0.75, reg_lambda=0.1, reg_alpha=0.01, num_leaves=15, n_estimators=500, min_child_weight=0.01, min_child_samples=1, max_depth=2, learning_rate=0.1, importance_type=split, colsample_bytree=0.35, boosting_type=gbdt \n",
            "[CV]  subsample_for_bin=1250, subsample=0.75, reg_lambda=0.1, reg_alpha=0.01, num_leaves=15, n_estimators=500, min_child_weight=0.01, min_child_samples=1, max_depth=2, learning_rate=0.1, importance_type=split, colsample_bytree=0.35, boosting_type=gbdt, score=0.275, total=   0.1s\n",
            "[CV] subsample_for_bin=1250, subsample=0.75, reg_lambda=0.1, reg_alpha=0.01, num_leaves=15, n_estimators=500, min_child_weight=0.01, min_child_samples=1, max_depth=2, learning_rate=0.1, importance_type=split, colsample_bytree=0.35, boosting_type=gbdt \n",
            "[CV]  subsample_for_bin=1250, subsample=0.75, reg_lambda=0.1, reg_alpha=0.01, num_leaves=15, n_estimators=500, min_child_weight=0.01, min_child_samples=1, max_depth=2, learning_rate=0.1, importance_type=split, colsample_bytree=0.35, boosting_type=gbdt, score=0.343, total=   0.2s\n",
            "[CV] subsample_for_bin=1250, subsample=0.75, reg_lambda=0.1, reg_alpha=0.01, num_leaves=15, n_estimators=500, min_child_weight=0.01, min_child_samples=1, max_depth=2, learning_rate=0.1, importance_type=split, colsample_bytree=0.35, boosting_type=gbdt \n",
            "[CV]  subsample_for_bin=1250, subsample=0.75, reg_lambda=0.1, reg_alpha=0.01, num_leaves=15, n_estimators=500, min_child_weight=0.01, min_child_samples=1, max_depth=2, learning_rate=0.1, importance_type=split, colsample_bytree=0.35, boosting_type=gbdt, score=0.306, total=   0.1s\n",
            "[CV] subsample_for_bin=750, subsample=0.75, reg_lambda=0.1, reg_alpha=1, num_leaves=20, n_estimators=500, min_child_weight=10.0, min_child_samples=1, max_depth=1, learning_rate=0.01, importance_type=gain, colsample_bytree=0.55, boosting_type=gbdt \n",
            "[CV]  subsample_for_bin=750, subsample=0.75, reg_lambda=0.1, reg_alpha=1, num_leaves=20, n_estimators=500, min_child_weight=10.0, min_child_samples=1, max_depth=1, learning_rate=0.01, importance_type=gain, colsample_bytree=0.55, boosting_type=gbdt, score=0.328, total=   0.1s\n",
            "[CV] subsample_for_bin=750, subsample=0.75, reg_lambda=0.1, reg_alpha=1, num_leaves=20, n_estimators=500, min_child_weight=10.0, min_child_samples=1, max_depth=1, learning_rate=0.01, importance_type=gain, colsample_bytree=0.55, boosting_type=gbdt \n",
            "[CV]  subsample_for_bin=750, subsample=0.75, reg_lambda=0.1, reg_alpha=1, num_leaves=20, n_estimators=500, min_child_weight=10.0, min_child_samples=1, max_depth=1, learning_rate=0.01, importance_type=gain, colsample_bytree=0.55, boosting_type=gbdt, score=0.332, total=   0.1s\n",
            "[CV] subsample_for_bin=750, subsample=0.75, reg_lambda=0.1, reg_alpha=1, num_leaves=20, n_estimators=500, min_child_weight=10.0, min_child_samples=1, max_depth=1, learning_rate=0.01, importance_type=gain, colsample_bytree=0.55, boosting_type=gbdt \n",
            "[CV]  subsample_for_bin=750, subsample=0.75, reg_lambda=0.1, reg_alpha=1, num_leaves=20, n_estimators=500, min_child_weight=10.0, min_child_samples=1, max_depth=1, learning_rate=0.01, importance_type=gain, colsample_bytree=0.55, boosting_type=gbdt, score=0.275, total=   0.1s\n",
            "[CV] subsample_for_bin=750, subsample=0.75, reg_lambda=0.1, reg_alpha=1, num_leaves=20, n_estimators=500, min_child_weight=10.0, min_child_samples=1, max_depth=1, learning_rate=0.01, importance_type=gain, colsample_bytree=0.55, boosting_type=gbdt \n",
            "[CV]  subsample_for_bin=750, subsample=0.75, reg_lambda=0.1, reg_alpha=1, num_leaves=20, n_estimators=500, min_child_weight=10.0, min_child_samples=1, max_depth=1, learning_rate=0.01, importance_type=gain, colsample_bytree=0.55, boosting_type=gbdt, score=0.280, total=   0.1s\n",
            "[CV] subsample_for_bin=750, subsample=0.75, reg_lambda=0.1, reg_alpha=1, num_leaves=20, n_estimators=500, min_child_weight=10.0, min_child_samples=1, max_depth=1, learning_rate=0.01, importance_type=gain, colsample_bytree=0.55, boosting_type=gbdt \n",
            "[CV]  subsample_for_bin=750, subsample=0.75, reg_lambda=0.1, reg_alpha=1, num_leaves=20, n_estimators=500, min_child_weight=10.0, min_child_samples=1, max_depth=1, learning_rate=0.01, importance_type=gain, colsample_bytree=0.55, boosting_type=gbdt, score=0.294, total=   0.1s\n",
            "[CV] subsample_for_bin=1250, subsample=0.6, reg_lambda=1, reg_alpha=0.1, num_leaves=40, n_estimators=75, min_child_weight=1, min_child_samples=10, max_depth=2, learning_rate=0.01, importance_type=gain, colsample_bytree=0.35, boosting_type=gbdt \n",
            "[CV]  subsample_for_bin=1250, subsample=0.6, reg_lambda=1, reg_alpha=0.1, num_leaves=40, n_estimators=75, min_child_weight=1, min_child_samples=10, max_depth=2, learning_rate=0.01, importance_type=gain, colsample_bytree=0.35, boosting_type=gbdt, score=0.184, total=   0.0s\n",
            "[CV] subsample_for_bin=1250, subsample=0.6, reg_lambda=1, reg_alpha=0.1, num_leaves=40, n_estimators=75, min_child_weight=1, min_child_samples=10, max_depth=2, learning_rate=0.01, importance_type=gain, colsample_bytree=0.35, boosting_type=gbdt \n",
            "[CV]  subsample_for_bin=1250, subsample=0.6, reg_lambda=1, reg_alpha=0.1, num_leaves=40, n_estimators=75, min_child_weight=1, min_child_samples=10, max_depth=2, learning_rate=0.01, importance_type=gain, colsample_bytree=0.35, boosting_type=gbdt, score=0.197, total=   0.0s\n",
            "[CV] subsample_for_bin=1250, subsample=0.6, reg_lambda=1, reg_alpha=0.1, num_leaves=40, n_estimators=75, min_child_weight=1, min_child_samples=10, max_depth=2, learning_rate=0.01, importance_type=gain, colsample_bytree=0.35, boosting_type=gbdt \n",
            "[CV]  subsample_for_bin=1250, subsample=0.6, reg_lambda=1, reg_alpha=0.1, num_leaves=40, n_estimators=75, min_child_weight=1, min_child_samples=10, max_depth=2, learning_rate=0.01, importance_type=gain, colsample_bytree=0.35, boosting_type=gbdt, score=0.166, total=   0.0s\n",
            "[CV] subsample_for_bin=1250, subsample=0.6, reg_lambda=1, reg_alpha=0.1, num_leaves=40, n_estimators=75, min_child_weight=1, min_child_samples=10, max_depth=2, learning_rate=0.01, importance_type=gain, colsample_bytree=0.35, boosting_type=gbdt \n",
            "[CV]  subsample_for_bin=1250, subsample=0.6, reg_lambda=1, reg_alpha=0.1, num_leaves=40, n_estimators=75, min_child_weight=1, min_child_samples=10, max_depth=2, learning_rate=0.01, importance_type=gain, colsample_bytree=0.35, boosting_type=gbdt, score=0.169, total=   0.0s\n",
            "[CV] subsample_for_bin=1250, subsample=0.6, reg_lambda=1, reg_alpha=0.1, num_leaves=40, n_estimators=75, min_child_weight=1, min_child_samples=10, max_depth=2, learning_rate=0.01, importance_type=gain, colsample_bytree=0.35, boosting_type=gbdt \n",
            "[CV]  subsample_for_bin=1250, subsample=0.6, reg_lambda=1, reg_alpha=0.1, num_leaves=40, n_estimators=75, min_child_weight=1, min_child_samples=10, max_depth=2, learning_rate=0.01, importance_type=gain, colsample_bytree=0.35, boosting_type=gbdt, score=0.171, total=   0.0s\n",
            "[CV] subsample_for_bin=1250, subsample=0.85, reg_lambda=0.1, reg_alpha=0.01, num_leaves=20, n_estimators=500, min_child_weight=10.0, min_child_samples=3, max_depth=1, learning_rate=0.01, importance_type=split, colsample_bytree=0.45, boosting_type=gbdt \n",
            "[CV]  subsample_for_bin=1250, subsample=0.85, reg_lambda=0.1, reg_alpha=0.01, num_leaves=20, n_estimators=500, min_child_weight=10.0, min_child_samples=3, max_depth=1, learning_rate=0.01, importance_type=split, colsample_bytree=0.45, boosting_type=gbdt, score=0.330, total=   0.1s\n",
            "[CV] subsample_for_bin=1250, subsample=0.85, reg_lambda=0.1, reg_alpha=0.01, num_leaves=20, n_estimators=500, min_child_weight=10.0, min_child_samples=3, max_depth=1, learning_rate=0.01, importance_type=split, colsample_bytree=0.45, boosting_type=gbdt \n",
            "[CV]  subsample_for_bin=1250, subsample=0.85, reg_lambda=0.1, reg_alpha=0.01, num_leaves=20, n_estimators=500, min_child_weight=10.0, min_child_samples=3, max_depth=1, learning_rate=0.01, importance_type=split, colsample_bytree=0.45, boosting_type=gbdt, score=0.330, total=   0.1s\n",
            "[CV] subsample_for_bin=1250, subsample=0.85, reg_lambda=0.1, reg_alpha=0.01, num_leaves=20, n_estimators=500, min_child_weight=10.0, min_child_samples=3, max_depth=1, learning_rate=0.01, importance_type=split, colsample_bytree=0.45, boosting_type=gbdt \n",
            "[CV]  subsample_for_bin=1250, subsample=0.85, reg_lambda=0.1, reg_alpha=0.01, num_leaves=20, n_estimators=500, min_child_weight=10.0, min_child_samples=3, max_depth=1, learning_rate=0.01, importance_type=split, colsample_bytree=0.45, boosting_type=gbdt, score=0.276, total=   0.1s\n",
            "[CV] subsample_for_bin=1250, subsample=0.85, reg_lambda=0.1, reg_alpha=0.01, num_leaves=20, n_estimators=500, min_child_weight=10.0, min_child_samples=3, max_depth=1, learning_rate=0.01, importance_type=split, colsample_bytree=0.45, boosting_type=gbdt \n",
            "[CV]  subsample_for_bin=1250, subsample=0.85, reg_lambda=0.1, reg_alpha=0.01, num_leaves=20, n_estimators=500, min_child_weight=10.0, min_child_samples=3, max_depth=1, learning_rate=0.01, importance_type=split, colsample_bytree=0.45, boosting_type=gbdt, score=0.284, total=   0.1s\n",
            "[CV] subsample_for_bin=1250, subsample=0.85, reg_lambda=0.1, reg_alpha=0.01, num_leaves=20, n_estimators=500, min_child_weight=10.0, min_child_samples=3, max_depth=1, learning_rate=0.01, importance_type=split, colsample_bytree=0.45, boosting_type=gbdt \n",
            "[CV]  subsample_for_bin=1250, subsample=0.85, reg_lambda=0.1, reg_alpha=0.01, num_leaves=20, n_estimators=500, min_child_weight=10.0, min_child_samples=3, max_depth=1, learning_rate=0.01, importance_type=split, colsample_bytree=0.45, boosting_type=gbdt, score=0.296, total=   0.1s\n",
            "[CV] subsample_for_bin=1250, subsample=0.6, reg_lambda=1, reg_alpha=0.1, num_leaves=25, n_estimators=75, min_child_weight=1, min_child_samples=10, max_depth=1, learning_rate=0.001, importance_type=split, colsample_bytree=0.4, boosting_type=gbdt \n",
            "[CV]  subsample_for_bin=1250, subsample=0.6, reg_lambda=1, reg_alpha=0.1, num_leaves=25, n_estimators=75, min_child_weight=1, min_child_samples=10, max_depth=1, learning_rate=0.001, importance_type=split, colsample_bytree=0.4, boosting_type=gbdt, score=0.021, total=   0.0s\n",
            "[CV] subsample_for_bin=1250, subsample=0.6, reg_lambda=1, reg_alpha=0.1, num_leaves=25, n_estimators=75, min_child_weight=1, min_child_samples=10, max_depth=1, learning_rate=0.001, importance_type=split, colsample_bytree=0.4, boosting_type=gbdt \n",
            "[CV]  subsample_for_bin=1250, subsample=0.6, reg_lambda=1, reg_alpha=0.1, num_leaves=25, n_estimators=75, min_child_weight=1, min_child_samples=10, max_depth=1, learning_rate=0.001, importance_type=split, colsample_bytree=0.4, boosting_type=gbdt, score=0.023, total=   0.0s\n",
            "[CV] subsample_for_bin=1250, subsample=0.6, reg_lambda=1, reg_alpha=0.1, num_leaves=25, n_estimators=75, min_child_weight=1, min_child_samples=10, max_depth=1, learning_rate=0.001, importance_type=split, colsample_bytree=0.4, boosting_type=gbdt \n",
            "[CV]  subsample_for_bin=1250, subsample=0.6, reg_lambda=1, reg_alpha=0.1, num_leaves=25, n_estimators=75, min_child_weight=1, min_child_samples=10, max_depth=1, learning_rate=0.001, importance_type=split, colsample_bytree=0.4, boosting_type=gbdt, score=0.020, total=   0.0s\n",
            "[CV] subsample_for_bin=1250, subsample=0.6, reg_lambda=1, reg_alpha=0.1, num_leaves=25, n_estimators=75, min_child_weight=1, min_child_samples=10, max_depth=1, learning_rate=0.001, importance_type=split, colsample_bytree=0.4, boosting_type=gbdt \n",
            "[CV]  subsample_for_bin=1250, subsample=0.6, reg_lambda=1, reg_alpha=0.1, num_leaves=25, n_estimators=75, min_child_weight=1, min_child_samples=10, max_depth=1, learning_rate=0.001, importance_type=split, colsample_bytree=0.4, boosting_type=gbdt, score=0.020, total=   0.0s\n",
            "[CV] subsample_for_bin=1250, subsample=0.6, reg_lambda=1, reg_alpha=0.1, num_leaves=25, n_estimators=75, min_child_weight=1, min_child_samples=10, max_depth=1, learning_rate=0.001, importance_type=split, colsample_bytree=0.4, boosting_type=gbdt \n",
            "[CV]  subsample_for_bin=1250, subsample=0.6, reg_lambda=1, reg_alpha=0.1, num_leaves=25, n_estimators=75, min_child_weight=1, min_child_samples=10, max_depth=1, learning_rate=0.001, importance_type=split, colsample_bytree=0.4, boosting_type=gbdt, score=0.020, total=   0.0s\n",
            "[CV] subsample_for_bin=1250, subsample=0.85, reg_lambda=1, reg_alpha=0.01, num_leaves=15, n_estimators=200, min_child_weight=0.1, min_child_samples=1, max_depth=3, learning_rate=0.01, importance_type=gain, colsample_bytree=0.3, boosting_type=gbdt \n",
            "[CV]  subsample_for_bin=1250, subsample=0.85, reg_lambda=1, reg_alpha=0.01, num_leaves=15, n_estimators=200, min_child_weight=0.1, min_child_samples=1, max_depth=3, learning_rate=0.01, importance_type=gain, colsample_bytree=0.3, boosting_type=gbdt, score=0.317, total=   0.1s\n",
            "[CV] subsample_for_bin=1250, subsample=0.85, reg_lambda=1, reg_alpha=0.01, num_leaves=15, n_estimators=200, min_child_weight=0.1, min_child_samples=1, max_depth=3, learning_rate=0.01, importance_type=gain, colsample_bytree=0.3, boosting_type=gbdt \n",
            "[CV]  subsample_for_bin=1250, subsample=0.85, reg_lambda=1, reg_alpha=0.01, num_leaves=15, n_estimators=200, min_child_weight=0.1, min_child_samples=1, max_depth=3, learning_rate=0.01, importance_type=gain, colsample_bytree=0.3, boosting_type=gbdt, score=0.325, total=   0.1s\n",
            "[CV] subsample_for_bin=1250, subsample=0.85, reg_lambda=1, reg_alpha=0.01, num_leaves=15, n_estimators=200, min_child_weight=0.1, min_child_samples=1, max_depth=3, learning_rate=0.01, importance_type=gain, colsample_bytree=0.3, boosting_type=gbdt \n",
            "[CV]  subsample_for_bin=1250, subsample=0.85, reg_lambda=1, reg_alpha=0.01, num_leaves=15, n_estimators=200, min_child_weight=0.1, min_child_samples=1, max_depth=3, learning_rate=0.01, importance_type=gain, colsample_bytree=0.3, boosting_type=gbdt, score=0.273, total=   0.1s\n",
            "[CV] subsample_for_bin=1250, subsample=0.85, reg_lambda=1, reg_alpha=0.01, num_leaves=15, n_estimators=200, min_child_weight=0.1, min_child_samples=1, max_depth=3, learning_rate=0.01, importance_type=gain, colsample_bytree=0.3, boosting_type=gbdt \n",
            "[CV]  subsample_for_bin=1250, subsample=0.85, reg_lambda=1, reg_alpha=0.01, num_leaves=15, n_estimators=200, min_child_weight=0.1, min_child_samples=1, max_depth=3, learning_rate=0.01, importance_type=gain, colsample_bytree=0.3, boosting_type=gbdt, score=0.284, total=   0.1s\n",
            "[CV] subsample_for_bin=1250, subsample=0.85, reg_lambda=1, reg_alpha=0.01, num_leaves=15, n_estimators=200, min_child_weight=0.1, min_child_samples=1, max_depth=3, learning_rate=0.01, importance_type=gain, colsample_bytree=0.3, boosting_type=gbdt \n",
            "[CV]  subsample_for_bin=1250, subsample=0.85, reg_lambda=1, reg_alpha=0.01, num_leaves=15, n_estimators=200, min_child_weight=0.1, min_child_samples=1, max_depth=3, learning_rate=0.01, importance_type=gain, colsample_bytree=0.3, boosting_type=gbdt, score=0.288, total=   0.1s\n"
          ],
          "name": "stdout"
        },
        {
          "output_type": "stream",
          "text": [
            "[Parallel(n_jobs=1)]: Done  50 out of  50 | elapsed:    7.5s finished\n"
          ],
          "name": "stderr"
        },
        {
          "output_type": "stream",
          "text": [
            "\n",
            "Variance score: -0.2794298017544459\n",
            "\n",
            "Custom score: 22.69912326010648\n",
            "\n",
            "Best Parameters:  {'subsample_for_bin': 1250, 'subsample': 0.85, 'reg_lambda': 0.1, 'reg_alpha': 0.01, 'num_leaves': 20, 'n_estimators': 1500, 'min_child_weight': 0.001, 'min_child_samples': 1, 'max_depth': 2, 'learning_rate': 0.01, 'importance_type': 'split', 'colsample_bytree': 0.75, 'boosting_type': 'gbdt'}\n"
          ],
          "name": "stdout"
        }
      ]
    },
    {
      "cell_type": "markdown",
      "metadata": {
        "id": "Gj1oFeaDEAO9"
      },
      "source": [
        "##**5. Model Evaluation, Results & Performance Analysis**"
      ]
    },
    {
      "cell_type": "markdown",
      "metadata": {
        "id": "vZovZrRETuWn"
      },
      "source": [
        "***Section Summary: Model Evaluation, Results & Performance Analysis***\n",
        "\n",
        "We have applied the following 3 models:\n",
        "1. Linear Regression.\n",
        "2. Random Forest.\n",
        "3. Gradient Boosing - LightGBM.\n",
        "\n",
        "I have performed Hyperparameter Tuning on each one of them and the result that I got after a first hand implementation of these techniques is as follows.\n",
        "\n",
        "Out of the techniques applied, Linear Regrssion is the simplest technique of the all. The other two are a bit complex techniques. Still, it is observed that Linear Regression performs with par or sometimes better than the other two techniques. Being a simple algorithm, it takes very less time at both train and test times. Thus, seems like the best model after a first hand look at the model building phase."
      ]
    },
    {
      "cell_type": "code",
      "metadata": {
        "colab": {
          "base_uri": "https://localhost:8080/"
        },
        "id": "_t9QxLE1EJ0Q",
        "outputId": "4953a39c-e26a-4c9d-c46d-64a10aab2e54"
      },
      "source": [
        "from prettytable import PrettyTable\n",
        "  \n",
        "# Specify the Column Names while initializing the Table\n",
        "myTable = PrettyTable([\"Sr. No\", \"ML Model\", \"RMSE\", \"Train Time\"])\n",
        "  \n",
        "# Add rows\n",
        "myTable.add_row([\"1\", \"Linear regression\", \"20.4898\", \"Least\"])\n",
        "myTable.add_row([\"2\", \"Random Forest\", \"20.3789\", \"Most\"])\n",
        "myTable.add_row([\"3\", \"Gradient Boosting - LightGBM\", \"22.6991\", \"Moderate\"])\n",
        "\n",
        "print(myTable)"
      ],
      "execution_count": null,
      "outputs": [
        {
          "output_type": "stream",
          "text": [
            "+--------+------------------------------+---------+------------+\n",
            "| Sr. No |           ML Model           |   RMSE  | Train Time |\n",
            "+--------+------------------------------+---------+------------+\n",
            "|   1    |      Linear regression       | 20.4898 |   Least    |\n",
            "|   2    |        Random Forest         | 20.3789 |    Most    |\n",
            "|   3    | Gradient Boosting - LightGBM | 22.6991 |  Moderate  |\n",
            "+--------+------------------------------+---------+------------+\n"
          ],
          "name": "stdout"
        }
      ]
    },
    {
      "cell_type": "markdown",
      "metadata": {
        "id": "buAdOHqyW8KV"
      },
      "source": [
        "##**6. How Can This Solution Be Improved**"
      ]
    },
    {
      "cell_type": "markdown",
      "metadata": {
        "id": "YQlalClJXCui"
      },
      "source": [
        "If given more time, I can try implementing the following for better results: \n",
        "\n",
        "1. Collecting as much data as possible.\n",
        "2. Engineering new features.\n",
        "3. Selecting required features via techniques such as Forward Feature Selection and Backward Feature Selection by plotting Feature Importance at the end of training each model.\n",
        "4. As this is a regression problem, I can apply some other techniques such as Support Vector Machines, K Nearest Neighbors, Boosting using XGBoost, etc. and tune their hyperparameters and try finding the model which performs the best on the given data.\n",
        "5. In this problem, interpretability of models is very vital factor. Thus, it is very important that our models are interpretable so that we can better understand that why a particular model predicts a given value and how things are changing by change in independent variables.\n",
        "6. This solution can be deployed as either an API or a Web Application. If given another couple of hours, I can deploy this solution as a web application or put it onto GitHub which can be installed using pip."
      ]
    },
    {
      "cell_type": "markdown",
      "metadata": {
        "id": "9qQQiT5xYo3U"
      },
      "source": [
        "This solution can be best deployed in 2 ways:\n",
        "1. Web Application.\n",
        "2. API\n",
        "\n",
        "If given another couple of hours, I can deploy this solution as a web application or put it onto GitHub with version control which can be installed using pip on any machine and can be used."
      ]
    },
    {
      "cell_type": "markdown",
      "metadata": {
        "id": "zrkNGQ2YUqVC"
      },
      "source": [
        "##**8. Conclusion**"
      ]
    },
    {
      "cell_type": "markdown",
      "metadata": {
        "id": "aaPyeWUtUsSk"
      },
      "source": [
        "1. I have performed a first hand implementation to predict the Dwell Times at given customer stops.\n",
        "2. This is basically a regression problem as the target variable is continuous in nature.\n",
        "3. Among the 3 models applied, Linear Regression model performs the best, in terms of both, RMSE and the Train Time and Computational Cost."
      ]
    }
  ]
}